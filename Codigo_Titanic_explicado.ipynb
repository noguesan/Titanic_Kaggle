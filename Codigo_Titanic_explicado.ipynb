{
 "cells": [
  {
   "cell_type": "markdown",
   "metadata": {},
   "source": [
    "# TITANIC, PREDICCIóN DE SOBREVIVIENTES\n",
    "___\n"
   ]
  },
  {
   "cell_type": "markdown",
   "metadata": {},
   "source": [
    "## INTRODUCCIÓN: \n",
    "\n",
    "En esta competencia, se tiene dos conjuntos de datos similares que incluyen información del pasajero como nombre, edad, género, clase socioeconómica, etc. Uno conjunto de datos se titula train.csv y el otro se titulatest.csv la diferencia principal de estos conjuntos es que Train.csv contendrá los detalles de un subconjunto de pasajeros a bordo (891 para ser exactos) y, lo que es más importante, revelará si sobrevivieron o no, también conocido como la \"verdad terrestre\". Mientras que El conjunto de datos **test.csv** contiene información similar (de 418 pasajero) pero **no revela la\" verdad en tierra \"para cada pasajero, es decir si sobrevivieron. Es su trabajo predecir estos resultados.**\n",
    "\n",
    "El problema puede ser resuelto mediante algoritmos de aprendizaje por lo que es apto para el uso de Machine Learning. Por ser \n",
    "tener datos etiquetados, es decir, datos para los que ya conoce la respuesta de destino y trata de buscar patrones relacionándolos con un campo especial, llamado objetivo, dadas unas variables de entrada. Dentro de los Algoritmos de Machine Learning corresponde a un ejercicio de aprendizaje supervisado. En este trabajo se esta en busca de respuestas discretas, es decir con un conjunto finito de resultados posibles (sobrevive o no sobrevive) siendo del tipo claisficacion. Resumiendo se aplicara algoritmos de Machine Learning, de aprendizaje superfizad, del tipo clasificacion.\n",
    "\n",
    "\n",
    "El informe contendra el siguietne contenido:\n",
    "\n",
    "1. IMPORTACIÓN LIBRERIAS A USAR Y DEFINICION DE FUNCIONES.\n",
    "2. IMPORTACIÓN DE INFORMACIÓN.\n",
    "3. ENTENDIMIENTO DE LA INFORMACIÓN.\n",
    "4. PREPROCESAMIENTO DE LA INFORMACIÓN.\n",
    "    4.A. Limpieza de la informacion (Feactures).\n",
    "    4.B. Preparacion de datos para el uso de los algoritmos.\n",
    "4. APLICACION DE ALGORITMOS DE MACHINE LERNING.\n",
    "5. ANALISIS DE LAS PREDICCIONES.\n",
    "6. RESULTADOS Y CONCLUSION.\n",
    "\n",
    "\n",
    "Los algoritmos a utilizar son los sigueintes:  \n",
    "1. Regresion logitica  \n",
    "2. Maquina de vectores soporte\n",
    "3. K-vecinos mas cercanos    \n",
    "4. Naive Bayes  \n",
    "5. Arbol de decision   \n",
    "6. Bosque aleatorio  \n",
    "7. Metodo de ensamble  \n",
    "\n",
    "\n"
   ]
  },
  {
   "cell_type": "markdown",
   "metadata": {},
   "source": [
    "## 1. IMPORTACIÓN LIBRERIAS A USAR Y DEFINICION DE FUNCIONES\n",
    "\n",
    "Se utilisan las siguientes librerias: \n",
    "   * Pandas\n",
    "   * Numpy\n",
    "   * Seaborn\n",
    "   * Marplotlib\n",
    "   \n",
    "Las funciones definidas son unicamente para codigos que usaremos en reiteradas ocaciones"
   ]
  },
  {
   "cell_type": "code",
   "execution_count": 1,
   "metadata": {},
   "outputs": [],
   "source": [
    "# Importacion de librerias\n",
    "import pandas as pd\n",
    "import numpy as np\n",
    "import seaborn as sns\n",
    "import matplotlib.pyplot as plt\n",
    "\n",
    "#importasion de funciones de Sklearn\n",
    "from sklearn.model_selection import train_test_split\n",
    "from sklearn.linear_model import LogisticRegression\n",
    "from sklearn.svm import SVC\n",
    "from sklearn.neighbors import KNeighborsClassifier\n",
    "from sklearn.naive_bayes import GaussianNB\n",
    "from sklearn.tree import DecisionTreeClassifier\n",
    "from sklearn.ensemble import RandomForestClassifier, VotingClassifier \n",
    "from sklearn.metrics import confusion_matrix\n",
    "\n",
    "# Definicion de funciones:\n",
    "\n",
    "def concat_df(train_data, test_data):\n",
    "    #  Devuelve un df concatenado del conjunto de entrenamiento y prueba.\n",
    "    return pd.concat([train_data, test_data], sort=True).reset_index(drop=True)\n",
    "\n",
    "\n",
    "def divide_df(all_data):\n",
    "    # Devuelve dfs divididos del conjunto de entrenamiento y prueba\n",
    "    return all_data.loc[:890], all_data.loc[891:].drop(['Survived'], axis=1)\n",
    "\n",
    "\n",
    "\n",
    "def bar_chart(df, feacture):\n",
    "    #Grafica la cantidad de sobrevivientes y de muertos en base al datafram (df) y su columna (feacture)\n",
    "    survived=df[df['Sobreviviente']==1][feacture].value_counts()\n",
    "    dead=df[df['Sobreviviente']==0][feacture].value_counts()\n",
    "    sobrevivencia = pd.DataFrame([survived,dead])\n",
    "    sobrevivencia.index=['Sobrevivientes','Muertos']\n",
    "    sobrevivencia.plot(kind='bar',stacked=True, figsize=(10,5))\n",
    "    plt.title(df_train.name  +\": Sobrevivencia - \" + df[feacture].name )\n",
    "    \n",
    "def Replace_val(df, feacture):\n",
    "    #Remplaza los valires unicos de la columna por numeros distintos\n",
    "    original = df[feacture].unique()\n",
    "    remplazo = range(0,len(df[feacture].unique()),1)\n",
    "    df[feacture].replace(original , remplazo, inplace=True)\n",
    "    "
   ]
  },
  {
   "cell_type": "markdown",
   "metadata": {},
   "source": [
    "## 2. IMPORTACIÓN DE INFORMACIÓN\n",
    "Se importa la infomacion anteriormente citada para ser trabajados como DataFrames (los datos de \"Entrenamiento\" y los del \"Test\". A su vez se define un data Frame que contenga toda conjunta para facilitar el tratamiento de la infomración."
   ]
  },
  {
   "cell_type": "code",
   "execution_count": 2,
   "metadata": {},
   "outputs": [],
   "source": [
    "# importacion de datos a utlizardesde la Web\n",
    "url_train = \"https://raw.githubusercontent.com/Currie32/Titanic-Kaggle-Competition/master/train.csv\"\n",
    "url_test = \"https://raw.githubusercontent.com/Currie32/Titanic-Kaggle-Competition/master/test.csv\"\n",
    "\n",
    "# Se leen los datos\n",
    "df_train = pd.read_csv(url_train)\n",
    "df_test = pd.read_csv(url_test)\n",
    "\n",
    "# se guardan los datos en la computadora\n",
    "# NO CORRER SI YA FUERON GUARDADO LOS ARCHIVOS EN LA COMPUTADORA\n",
    "\n",
    "dir_train = \"Titanic_train.csv\"## VER COMO CREAR UNA CARPETA Y GUARDARLO AHI\n",
    "dir_test = \"Titanic_test.csv\"\n",
    "\n",
    "# DESCOMENTAR PARA GUARDAR ARCHIVOS EN LA COMPU\n",
    "# df_test.to_csv(dir_test)\n",
    "# df_train.to_csv(dir_train)\n",
    "\n",
    "\n",
    "#Importar los datos de los archivos .csv almacenados\n",
    "df_train = pd.read_csv(dir_train)\n",
    "df_test = pd.read_csv(dir_test)\n",
    "df_all = concat_df(df_train, df_test)\n",
    "\n",
    "#Nombra la data \n",
    "df_train.name = 'Training Set'\n",
    "df_test.name = 'Test Set'\n",
    "df_all.name = 'All Set' \n",
    "\n",
    "dfs = [df_train, df_test]"
   ]
  },
  {
   "cell_type": "markdown",
   "metadata": {},
   "source": [
    "## 3. ENTENDIMIENTO DE LA INFORMACION\n",
    "Se estudia la informacion base, esto consiste en:\n",
    "Observar que datos contiene cada archivo y el significado de cada uno de estos.\n",
    "   * La cantidad de datos totales, datos faltantes y la relacion entre estos (porcentaje de datos faltantes).\n",
    "   * Tipos de datos.\n",
    "   * Informacion estadistica de los datos\n",
    "   * Relaciones entre las distintas variables\n",
    "   * Obtener un orden de magnitud de los valores que se esperan obtener\n",
    "\n"
   ]
  },
  {
   "cell_type": "code",
   "execution_count": 3,
   "metadata": {
    "scrolled": true
   },
   "outputs": [
    {
     "name": "stdout",
     "output_type": "stream",
     "text": [
      "Nombre serie de datos: Training Set\n",
      "Cantidad de datos: (891, 13)\n",
      "Tipos de datos:\n",
      "<class 'pandas.core.frame.DataFrame'>\n",
      "RangeIndex: 891 entries, 0 to 890\n",
      "Data columns (total 13 columns):\n",
      " #   Column         Non-Null Count  Dtype  \n",
      "---  ------         --------------  -----  \n",
      " 0   Sin_nombre     891 non-null    int64  \n",
      " 1   ID             891 non-null    int64  \n",
      " 2   Sobreviviente  891 non-null    int64  \n",
      " 3   Clase          891 non-null    int64  \n",
      " 4   Nombre         891 non-null    object \n",
      " 5   Sexo           891 non-null    object \n",
      " 6   Edad           714 non-null    float64\n",
      " 7   Hermanos       891 non-null    int64  \n",
      " 8   Hijos          891 non-null    int64  \n",
      " 9   Ticket         891 non-null    object \n",
      " 10  Tarifa         891 non-null    float64\n",
      " 11  Cabina         204 non-null    object \n",
      " 12  Embarque       889 non-null    object \n",
      "dtypes: float64(2), int64(6), object(5)\n",
      "memory usage: 90.6+ KB\n",
      "None\n",
      "Datos faltantes:\n",
      "Sin_nombre         0\n",
      "ID                 0\n",
      "Sobreviviente      0\n",
      "Clase              0\n",
      "Nombre             0\n",
      "Sexo               0\n",
      "Edad             177\n",
      "Hermanos           0\n",
      "Hijos              0\n",
      "Ticket             0\n",
      "Tarifa             0\n",
      "Cabina           687\n",
      "Embarque           2\n",
      "dtype: int64\n",
      "Estadísticas:\n",
      "        Sin_nombre          ID  Sobreviviente       Clase             Nombre  \\\n",
      "count   891.000000  891.000000     891.000000  891.000000                891   \n",
      "unique         NaN         NaN            NaN         NaN                891   \n",
      "top            NaN         NaN            NaN         NaN  Kantor, Mr. Sinai   \n",
      "freq           NaN         NaN            NaN         NaN                  1   \n",
      "mean    445.000000  446.000000       0.383838    2.308642                NaN   \n",
      "std     257.353842  257.353842       0.486592    0.836071                NaN   \n",
      "min       0.000000    1.000000       0.000000    1.000000                NaN   \n",
      "25%     222.500000  223.500000       0.000000    2.000000                NaN   \n",
      "50%     445.000000  446.000000       0.000000    3.000000                NaN   \n",
      "75%     667.500000  668.500000       1.000000    3.000000                NaN   \n",
      "max     890.000000  891.000000       1.000000    3.000000                NaN   \n",
      "\n",
      "        Sexo        Edad    Hermanos       Hijos    Ticket      Tarifa  \\\n",
      "count    891  714.000000  891.000000  891.000000       891  891.000000   \n",
      "unique     2         NaN         NaN         NaN       681         NaN   \n",
      "top     male         NaN         NaN         NaN  CA. 2343         NaN   \n",
      "freq     577         NaN         NaN         NaN         7         NaN   \n",
      "mean     NaN   29.699118    0.523008    0.381594       NaN   32.204208   \n",
      "std      NaN   14.526497    1.102743    0.806057       NaN   49.693429   \n",
      "min      NaN    0.420000    0.000000    0.000000       NaN    0.000000   \n",
      "25%      NaN   20.125000    0.000000    0.000000       NaN    7.910400   \n",
      "50%      NaN   28.000000    0.000000    0.000000       NaN   14.454200   \n",
      "75%      NaN   38.000000    1.000000    0.000000       NaN   31.000000   \n",
      "max      NaN   80.000000    8.000000    6.000000       NaN  512.329200   \n",
      "\n",
      "             Cabina Embarque  \n",
      "count           204      889  \n",
      "unique          147        3  \n",
      "top     C23 C25 C27        S  \n",
      "freq              4      644  \n",
      "mean            NaN      NaN  \n",
      "std             NaN      NaN  \n",
      "min             NaN      NaN  \n",
      "25%             NaN      NaN  \n",
      "50%             NaN      NaN  \n",
      "75%             NaN      NaN  \n",
      "max             NaN      NaN  \n",
      "Nombre serie de datos: Test Set\n",
      "Cantidad de datos: (418, 12)\n",
      "Tipos de datos:\n",
      "<class 'pandas.core.frame.DataFrame'>\n",
      "RangeIndex: 418 entries, 0 to 417\n",
      "Data columns (total 12 columns):\n",
      " #   Column      Non-Null Count  Dtype  \n",
      "---  ------      --------------  -----  \n",
      " 0   Sin_nombre  418 non-null    int64  \n",
      " 1   ID          418 non-null    int64  \n",
      " 2   Clase       418 non-null    int64  \n",
      " 3   Nombre      418 non-null    object \n",
      " 4   Sexo        418 non-null    object \n",
      " 5   Edad        332 non-null    float64\n",
      " 6   Hermanos    418 non-null    int64  \n",
      " 7   Hijos       418 non-null    int64  \n",
      " 8   Ticket      418 non-null    object \n",
      " 9   Tarifa      417 non-null    float64\n",
      " 10  Cabina      91 non-null     object \n",
      " 11  Embarque    418 non-null    object \n",
      "dtypes: float64(2), int64(5), object(5)\n",
      "memory usage: 39.3+ KB\n",
      "None\n",
      "Datos faltantes:\n",
      "Sin_nombre      0\n",
      "ID              0\n",
      "Clase           0\n",
      "Nombre          0\n",
      "Sexo            0\n",
      "Edad           86\n",
      "Hermanos        0\n",
      "Hijos           0\n",
      "Ticket          0\n",
      "Tarifa          1\n",
      "Cabina        327\n",
      "Embarque        0\n",
      "dtype: int64\n",
      "Estadísticas:\n",
      "        Sin_nombre           ID       Clase         Nombre  Sexo        Edad  \\\n",
      "count   418.000000   418.000000  418.000000            418   418  332.000000   \n",
      "unique         NaN          NaN         NaN            418     2         NaN   \n",
      "top            NaN          NaN         NaN  Cor, Mr. Ivan  male         NaN   \n",
      "freq           NaN          NaN         NaN              1   266         NaN   \n",
      "mean    208.500000  1100.500000    2.265550            NaN   NaN   30.272590   \n",
      "std     120.810458   120.810458    0.841838            NaN   NaN   14.181209   \n",
      "min       0.000000   892.000000    1.000000            NaN   NaN    0.170000   \n",
      "25%     104.250000   996.250000    1.000000            NaN   NaN   21.000000   \n",
      "50%     208.500000  1100.500000    3.000000            NaN   NaN   27.000000   \n",
      "75%     312.750000  1204.750000    3.000000            NaN   NaN   39.000000   \n",
      "max     417.000000  1309.000000    3.000000            NaN   NaN   76.000000   \n",
      "\n",
      "          Hermanos       Hijos    Ticket      Tarifa           Cabina Embarque  \n",
      "count   418.000000  418.000000       418  417.000000               91      418  \n",
      "unique         NaN         NaN       363         NaN               76        3  \n",
      "top            NaN         NaN  PC 17608         NaN  B57 B59 B63 B66        S  \n",
      "freq           NaN         NaN         5         NaN                3      270  \n",
      "mean      0.447368    0.392344       NaN   35.627188              NaN      NaN  \n",
      "std       0.896760    0.981429       NaN   55.907576              NaN      NaN  \n",
      "min       0.000000    0.000000       NaN    0.000000              NaN      NaN  \n",
      "25%       0.000000    0.000000       NaN    7.895800              NaN      NaN  \n",
      "50%       0.000000    0.000000       NaN   14.454200              NaN      NaN  \n",
      "75%       1.000000    0.000000       NaN   31.500000              NaN      NaN  \n",
      "max       8.000000    9.000000       NaN  512.329200              NaN      NaN  \n",
      "Datos de Training Set, Datos faltantantes: \n",
      "               Número de datos faltantes  % porcentaje de datos faltantes\n",
      "Sin_nombre                             0                              0.0\n",
      "ID                                     0                              0.0\n",
      "Sobreviviente                          0                              0.0\n",
      "Clase                                  0                              0.0\n",
      "Nombre                                 0                              0.0\n",
      "Sexo                                   0                              0.0\n",
      "Edad                                 177                             19.9\n",
      "Hermanos                               0                              0.0\n",
      "Hijos                                  0                              0.0\n",
      "Ticket                                 0                              0.0\n",
      "Tarifa                                 0                              0.0\n",
      "Cabina                               687                             77.1\n",
      "Embarque                               2                              0.2\n",
      "Datos de Test Set, Datos faltantantes: \n",
      "               Número de datos faltantes  % porcentaje de datos faltantes\n",
      "Sin_nombre                           0.0                              0.0\n",
      "ID                                   0.0                              0.0\n",
      "Clase                                0.0                              0.0\n",
      "Nombre                               0.0                              0.0\n",
      "Sexo                                 0.0                              0.0\n",
      "Edad                                86.0                              9.7\n",
      "Hermanos                             0.0                              0.0\n",
      "Hijos                                0.0                              0.0\n",
      "Ticket                               0.0                              0.0\n",
      "Tarifa                               1.0                              0.1\n",
      "Cabina                             327.0                             36.7\n",
      "Embarque                             0.0                              0.0\n",
      "Sobreviviente                        NaN                              NaN\n"
     ]
    }
   ],
   "source": [
    "# Visualizaciones de la informacion, descomentar para ver\n",
    "# df_train.head()\n",
    "# df_train.tail()\n",
    "# df_test.head()\n",
    "# df_test.tail()\n",
    "\n",
    "\n",
    "#Cambio los titulos de la columna para una interpretacion mas comoda\n",
    "#df_train.keys() #descomentar para ver los titulos\n",
    "cabecera = [\"Sin_nombre\", \"ID\", \"Sobreviviente\", \"Clase\", \"Nombre\", \"Sexo\", \"Edad\",\"Hermanos\", \"Hijos\", \"Ticket\", \"Tarifa\", \"Cabina\", \"Embarque\"]\n",
    "df_train.columns = cabecera\n",
    "\n",
    "#df_test.keys() #descomentar para ver los titulos\n",
    "cabecera = [\"Sin_nombre\", \"ID\", \"Clase\", \"Nombre\", \"Sexo\", \"Edad\",\"Hermanos\", \"Hijos\", \"Ticket\", \"Tarifa\", \"Cabina\", \"Embarque\"]\n",
    "df_test.columns = cabecera\n",
    "\n",
    "# Verificaciones\n",
    "\n",
    "for df in dfs: \n",
    "    print ('Nombre serie de datos: {}' .format(df.name)) \n",
    "\n",
    "    print('Cantidad de datos: {}'.format(df.shape)) \n",
    "\n",
    "    print('Tipos de datos:')\n",
    "    print(df.info())\n",
    "\n",
    "    print('Datos faltantes:')\n",
    "    print(pd.isnull(df).sum())\n",
    "\n",
    "    print('Estadísticas:')\n",
    "    print(df.describe(include = \"all\"))\n",
    "\n",
    "# #tabla de valores faltantes de entrenamito, ya esta hecha en el anterior. aca solo hace una tabla mas bonita\n",
    "\n",
    "for df in dfs:\n",
    "    df_nul =  pd.isnull(df).sum()\n",
    "    df_dat = df_train.isna().count()\n",
    "    per_df_null = round(df_nul / df_dat * 100, 1)\n",
    "\n",
    "    print(\"Datos de {}, Datos faltantantes: \".format(df.name))\n",
    "    missing_data = pd.concat([df_nul, per_df_null], axis=1, keys=['Número de datos faltantes', '% porcentaje de datos faltantes'])\n",
    "    print(missing_data)"
   ]
  },
  {
   "cell_type": "markdown",
   "metadata": {},
   "source": [
    "Relacion entre variables numericas:"
   ]
  },
  {
   "cell_type": "code",
   "execution_count": 4,
   "metadata": {},
   "outputs": [
    {
     "data": {
      "text/plain": [
       "Text(0.5, 1.0, 'Relaciones entre las variables numericas')"
      ]
     },
     "execution_count": 4,
     "metadata": {},
     "output_type": "execute_result"
    },
    {
     "data": {
      "image/png": "[encoded data removed]",
      "text/plain": [
       "<Figure size 720x576 with 2 Axes>"
      ]
     },
     "metadata": {
      "needs_background": "light"
     },
     "output_type": "display_data"
    }
   ],
   "source": [
    "# Hace una correlacion de variables con un mapa de calor: \n",
    "sns.heatmap(df_train.drop(['ID','Sin_nombre'], axis=1).corr(), annot=True, cmap='coolwarm')\n",
    "fig=plt.gcf()\n",
    "fig.set_size_inches(10,8)\n",
    "plt.title('Relaciones entre las variables numericas', fontsize = 20)"
   ]
  },
  {
   "cell_type": "code",
   "execution_count": 5,
   "metadata": {},
   "outputs": [
    {
     "data": {
      "text/plain": [
       "Text(0.5, 1.0, 'Probabilidad de Sobrevivencia')"
      ]
     },
     "execution_count": 5,
     "metadata": {},
     "output_type": "execute_result"
    },
    {
     "data": {
      "image/png": "[encoded data removed]",
      "text/plain": [
       "<Figure size 432x288 with 1 Axes>"
      ]
     },
     "metadata": {},
     "output_type": "display_data"
    }
   ],
   "source": [
    "# Grafico supervivencia\n",
    "\n",
    "plt.pie(df_train.Sobreviviente.value_counts(),labels=['No sobrevivientes', 'Sobrevivientes'], autopct=\"%0.1f %%\")\n",
    "plt.title('Probabilidad de Sobrevivencia')"
   ]
  },
  {
   "cell_type": "markdown",
   "metadata": {},
   "source": [
    "**Algunas onclusiones**  \n",
    "Faltan muy pocos datos de embarque y tarifa pero una gran cantidad de datos sobre las edades y cabinas\n",
    "Se estima a simplevista que el orden de sobrevivientes esta en 38 %\n",
    "Dentro de las variables numericas, con los datos en crupo parecen ser las mas relevantes la \"Clase\" y la \"Tarifa\" de cada uno\n"
   ]
  },
  {
   "cell_type": "markdown",
   "metadata": {},
   "source": [
    "## 4. PREPROCESAMIENTO DE LA INFORMACIÓN"
   ]
  },
  {
   "cell_type": "markdown",
   "metadata": {},
   "source": [
    "### 4.A. Limpieza de la informácion\n",
    "Las 4 C de la limpieza de datos: corregir, completar, crear y convertir\n",
    "En esta etapa, limpiaremos nuestros datos \n",
    "\n",
    "1) corrigiendo valores aberrantes y valores atípicos.  \n",
    "2) completando la información faltante.  \n",
    "3) creando nuevas características para el análisis.  \n",
    "4) convirtiendo los campos al formato correcto para los cálculos y la presentación.  \n",
    "\n",
    "Corrección: al revisar los datos, no parece haber entradas de datos aberrantes o no aceptables. Además, vemos que podemos tener valores atípicos potenciales en edad y tarifa. Sin embargo, dado que son valores razonables, esperaremos hasta que completemos nuestro análisis exploratorio para determinar si debemos incluir o excluir del conjunto de datos. Cabe señalar que si fueran valores irrazonables, por ejemplo, edad = 800 en lugar de 80, probablemente sea una decisión segura corregir ahora. Sin embargo, queremos tener cuidado cuando modificamos los datos de su valor original, porque puede ser necesario crear un modelo preciso.  \n",
    "Completando: Hay valores nulos o datos faltantes en el campo de edad, cabina y embarcado. Los valores perdidos pueden ser malos, porque algunos algoritmos no saben cómo manejar valores nulos y fallarán. Mientras que otros, como los árboles de decisión, pueden manejar valores nulos. Por lo tanto, es importante corregirlo antes de comenzar a modelar, porque compararemos y contrastaremos varios modelos. Hay dos métodos comunes, eliminar el registro o completar el valor que falta con una entrada razonable. No se recomienda eliminar el registro, especialmente un gran porcentaje de registros, a menos que realmente represente un registro incompleto. En cambio, es mejor imputar los valores perdidos. Una metodología básica para los datos cualitativos es la imputación mediante el modo. Una metodología básica para los datos cuantitativos es la imputación utilizando media, mediana o media + desviación estándar aleatoria. Una metodología intermedia es utilizar la metodología básica basada en criterios específicos; como la edad media por clase o puerto de embarque por tarifa y SES. Hay metodologías más complejas; sin embargo, antes de implementarlo, se debe comparar con el modelo base para determinar si la complejidad realmente agrega valor. Para este conjunto de datos, la edad se imputará con la mediana, el atributo de cabina se eliminará y el embarque se imputará con el modo. Las iteraciones posteriores del modelo pueden modificar esta decisión para determinar si mejora la precisión del modelo.  \n",
    "Creación: la ingeniería de características es cuando usamos características existentes para crear nuevas características para determinar si proporcionan nuevas señales para predecir nuestro resultado. Para este conjunto de datos, crearemos una función de título para determinar si jugó un papel en la supervivencia.  \n",
    "Conversión: por último, pero no menos importante, nos ocuparemos del formato. No hay formatos de fecha o moneda, sino formatos de tipo de datos. Nuestros datos categóricos se importan como objetos, lo que dificulta los cálculos matemáticos. Para este conjunto de datos, convertiremos tipos de datos de objetos en variables ficticias categóricas"
   ]
  },
  {
   "cell_type": "markdown",
   "metadata": {},
   "source": [
    "### 4.1. Nombres\n",
    "\n",
    "Se observa que los nombres estan compuestos de la siguiente manera:  \n",
    "<center>\n",
    "    Apellido familia, Titulo. Nombre y apellido\n",
    "</center>   \n",
    "\n",
    "Para el caso particular de las señoras casadas difiere un poco siendo:  \n",
    "<center>\n",
    "Apellido familia, Titulo. Nombre y apellido del marido ( nombre y apellido propio)   \n",
    "</center> \n",
    "\n",
    "Pudiendo de esta informacion sacar los siguientes datos relevantes, el titulo y en casa de estar la pareja de casados tambien se puede obtener dicha informacion."
   ]
  },
  {
   "cell_type": "markdown",
   "metadata": {},
   "source": [
    "#### 4.1.1. Titulos\n",
    "Se prosede a la obtencion de los titulos, para esto se generan los titulos, se hace una observacion de los titulos actuales y luego se los agrupara segun corresponda."
   ]
  },
  {
   "cell_type": "code",
   "execution_count": 6,
   "metadata": {},
   "outputs": [
    {
     "data": {
      "text/html": [
       "<div>\n",
       "<style scoped>\n",
       "    .dataframe tbody tr th:only-of-type {\n",
       "        vertical-align: middle;\n",
       "    }\n",
       "\n",
       "    .dataframe tbody tr th {\n",
       "        vertical-align: top;\n",
       "    }\n",
       "\n",
       "    .dataframe thead tr th {\n",
       "        text-align: left;\n",
       "    }\n",
       "\n",
       "    .dataframe thead tr:last-of-type th {\n",
       "        text-align: right;\n",
       "    }\n",
       "</style>\n",
       "<table border=\"1\" class=\"dataframe\">\n",
       "  <thead>\n",
       "    <tr>\n",
       "      <th></th>\n",
       "      <th colspan=\"4\" halign=\"left\">Edad</th>\n",
       "      <th>Sobreviviente</th>\n",
       "    </tr>\n",
       "    <tr>\n",
       "      <th></th>\n",
       "      <th>count</th>\n",
       "      <th>mean</th>\n",
       "      <th>min</th>\n",
       "      <th>max</th>\n",
       "      <th>mean</th>\n",
       "    </tr>\n",
       "    <tr>\n",
       "      <th>Titulo</th>\n",
       "      <th></th>\n",
       "      <th></th>\n",
       "      <th></th>\n",
       "      <th></th>\n",
       "      <th></th>\n",
       "    </tr>\n",
       "  </thead>\n",
       "  <tbody>\n",
       "    <tr>\n",
       "      <th>Capt</th>\n",
       "      <td>1</td>\n",
       "      <td>70.000000</td>\n",
       "      <td>70.00</td>\n",
       "      <td>70.0</td>\n",
       "      <td>0.000000</td>\n",
       "    </tr>\n",
       "    <tr>\n",
       "      <th>Col</th>\n",
       "      <td>4</td>\n",
       "      <td>54.000000</td>\n",
       "      <td>47.00</td>\n",
       "      <td>60.0</td>\n",
       "      <td>0.500000</td>\n",
       "    </tr>\n",
       "    <tr>\n",
       "      <th>Don</th>\n",
       "      <td>1</td>\n",
       "      <td>40.000000</td>\n",
       "      <td>40.00</td>\n",
       "      <td>40.0</td>\n",
       "      <td>0.000000</td>\n",
       "    </tr>\n",
       "    <tr>\n",
       "      <th>Dona</th>\n",
       "      <td>1</td>\n",
       "      <td>39.000000</td>\n",
       "      <td>39.00</td>\n",
       "      <td>39.0</td>\n",
       "      <td>NaN</td>\n",
       "    </tr>\n",
       "    <tr>\n",
       "      <th>Dr</th>\n",
       "      <td>7</td>\n",
       "      <td>43.571429</td>\n",
       "      <td>23.00</td>\n",
       "      <td>54.0</td>\n",
       "      <td>0.428571</td>\n",
       "    </tr>\n",
       "    <tr>\n",
       "      <th>Jonkheer</th>\n",
       "      <td>1</td>\n",
       "      <td>38.000000</td>\n",
       "      <td>38.00</td>\n",
       "      <td>38.0</td>\n",
       "      <td>0.000000</td>\n",
       "    </tr>\n",
       "    <tr>\n",
       "      <th>Lady</th>\n",
       "      <td>1</td>\n",
       "      <td>48.000000</td>\n",
       "      <td>48.00</td>\n",
       "      <td>48.0</td>\n",
       "      <td>1.000000</td>\n",
       "    </tr>\n",
       "    <tr>\n",
       "      <th>Major</th>\n",
       "      <td>2</td>\n",
       "      <td>48.500000</td>\n",
       "      <td>45.00</td>\n",
       "      <td>52.0</td>\n",
       "      <td>0.500000</td>\n",
       "    </tr>\n",
       "    <tr>\n",
       "      <th>Master</th>\n",
       "      <td>53</td>\n",
       "      <td>5.482642</td>\n",
       "      <td>0.33</td>\n",
       "      <td>14.5</td>\n",
       "      <td>0.575000</td>\n",
       "    </tr>\n",
       "    <tr>\n",
       "      <th>Miss</th>\n",
       "      <td>210</td>\n",
       "      <td>21.774238</td>\n",
       "      <td>0.17</td>\n",
       "      <td>63.0</td>\n",
       "      <td>0.697802</td>\n",
       "    </tr>\n",
       "    <tr>\n",
       "      <th>Mlle</th>\n",
       "      <td>2</td>\n",
       "      <td>24.000000</td>\n",
       "      <td>24.00</td>\n",
       "      <td>24.0</td>\n",
       "      <td>1.000000</td>\n",
       "    </tr>\n",
       "    <tr>\n",
       "      <th>Mme</th>\n",
       "      <td>1</td>\n",
       "      <td>24.000000</td>\n",
       "      <td>24.00</td>\n",
       "      <td>24.0</td>\n",
       "      <td>1.000000</td>\n",
       "    </tr>\n",
       "    <tr>\n",
       "      <th>Mr</th>\n",
       "      <td>581</td>\n",
       "      <td>32.252151</td>\n",
       "      <td>11.00</td>\n",
       "      <td>80.0</td>\n",
       "      <td>0.156673</td>\n",
       "    </tr>\n",
       "    <tr>\n",
       "      <th>Mrs</th>\n",
       "      <td>170</td>\n",
       "      <td>36.994118</td>\n",
       "      <td>14.00</td>\n",
       "      <td>76.0</td>\n",
       "      <td>0.792000</td>\n",
       "    </tr>\n",
       "    <tr>\n",
       "      <th>Ms</th>\n",
       "      <td>1</td>\n",
       "      <td>28.000000</td>\n",
       "      <td>28.00</td>\n",
       "      <td>28.0</td>\n",
       "      <td>1.000000</td>\n",
       "    </tr>\n",
       "    <tr>\n",
       "      <th>Rev</th>\n",
       "      <td>8</td>\n",
       "      <td>41.250000</td>\n",
       "      <td>27.00</td>\n",
       "      <td>57.0</td>\n",
       "      <td>0.000000</td>\n",
       "    </tr>\n",
       "    <tr>\n",
       "      <th>Sir</th>\n",
       "      <td>1</td>\n",
       "      <td>49.000000</td>\n",
       "      <td>49.00</td>\n",
       "      <td>49.0</td>\n",
       "      <td>1.000000</td>\n",
       "    </tr>\n",
       "    <tr>\n",
       "      <th>the Countess</th>\n",
       "      <td>1</td>\n",
       "      <td>33.000000</td>\n",
       "      <td>33.00</td>\n",
       "      <td>33.0</td>\n",
       "      <td>1.000000</td>\n",
       "    </tr>\n",
       "  </tbody>\n",
       "</table>\n",
       "</div>"
      ],
      "text/plain": [
       "              Edad                         Sobreviviente\n",
       "             count       mean    min   max          mean\n",
       "Titulo                                                  \n",
       "Capt             1  70.000000  70.00  70.0      0.000000\n",
       "Col              4  54.000000  47.00  60.0      0.500000\n",
       "Don              1  40.000000  40.00  40.0      0.000000\n",
       "Dona             1  39.000000  39.00  39.0           NaN\n",
       "Dr               7  43.571429  23.00  54.0      0.428571\n",
       "Jonkheer         1  38.000000  38.00  38.0      0.000000\n",
       "Lady             1  48.000000  48.00  48.0      1.000000\n",
       "Major            2  48.500000  45.00  52.0      0.500000\n",
       "Master          53   5.482642   0.33  14.5      0.575000\n",
       "Miss           210  21.774238   0.17  63.0      0.697802\n",
       "Mlle             2  24.000000  24.00  24.0      1.000000\n",
       "Mme              1  24.000000  24.00  24.0      1.000000\n",
       "Mr             581  32.252151  11.00  80.0      0.156673\n",
       "Mrs            170  36.994118  14.00  76.0      0.792000\n",
       "Ms               1  28.000000  28.00  28.0      1.000000\n",
       "Rev              8  41.250000  27.00  57.0      0.000000\n",
       "Sir              1  49.000000  49.00  49.0      1.000000\n",
       "the Countess     1  33.000000  33.00  33.0      1.000000"
      ]
     },
     "execution_count": 6,
     "metadata": {},
     "output_type": "execute_result"
    },
    {
     "data": {
      "image/png": "[encoded data removed]",
      "text/plain": [
       "<Figure size 1800x720 with 1 Axes>"
      ]
     },
     "metadata": {
      "needs_background": "light"
     },
     "output_type": "display_data"
    }
   ],
   "source": [
    "#Crea la columna titulo en base al nombre\n",
    "for df in dfs:\n",
    "    # data['Titulo']= data['Nombre'].str.extract(pat= ' ([A-Za-z]+)\\.') --> Viejo codigo, sirve pero se entiende mejor el otro 😉\n",
    "    df['Titulo'] = df['Nombre'].str.split(\", \", expand=True)[1].str.split(\".\", expand=True)[0]\n",
    "\n",
    "# # Verifiar cuantos tipos de tilos se crearon\n",
    "# df_train['Titulo'].unique()\n",
    "\n",
    "# # Verifico si todos tienen titulos (descomentar para verificar) \n",
    "# train_nul =  pd.isnull(df_train['Titulo']).sum()\n",
    "# train_dat = df_train['Titulo'].isna().count()\n",
    "# print('Datos nulos:', train_nul)\n",
    "# print('Total de datos:', train_dat)\n",
    "\n",
    "# #Descomnetar para buscar algun dato en particular \n",
    "# buscar = df_all[df_all['Titulo'] == 'Mme']\n",
    "# buscar\n",
    "\n",
    "# Une la data de entrenamiento con la de test, se utiliza para sacar distintas caracteristicas de forma convinada\n",
    "df_all = concat_df(df_train, df_test)\n",
    "\n",
    "# Grafico sin tratamiento\n",
    "\n",
    "#Tamaño grafico\n",
    "plt.figure(figsize=(25, 10))\n",
    "#varibles del grafico\n",
    "sns.barplot(x= df_all['Titulo'].value_counts().index, y=df_all['Titulo'].value_counts().values)\n",
    "#Titulo grafico\n",
    "plt.title(\"Titulos-Pasajeros\",fontsize=50)\n",
    "#Tamaño y nombre de titulos ejes\n",
    "plt.xlabel(\"Titulo\", size = 30)\n",
    "plt.ylabel(\"Pasajeros\", size = 30)\n",
    "#Tamaño letras ejes\n",
    "plt.tick_params(labelsize=20)\n",
    "\n",
    "# Para ver la tasa de supervivencia, segun titulo y edades\n",
    "\n",
    "Tit_edad =df_all[['Titulo', 'Edad']].groupby(['Titulo'], as_index=False).agg(['count', 'mean', 'min', 'max' ])\n",
    "Tit_Sob = df_all[['Titulo', 'Sobreviviente']].groupby(['Titulo'], as_index=False).agg(['mean'])\n",
    "pd.merge(Tit_edad, Tit_Sob, on='Titulo')\n",
    "\n"
   ]
  },
  {
   "cell_type": "markdown",
   "metadata": {},
   "source": [
    "Se observan varios titulos incorrectos y otros que pueden ser agrupados por tener caracteristicas similares, por lo que se planta una nueva distribucion de titulos. Adoptanse como titulos principales:\n",
    "   * Mr: Hombres mayores de 12 años\n",
    "   * Miss: mujeres no casadas\n",
    "   * Mrs: mujeres casadas\n",
    "   * Master:  título único para hombres menores de 12 años\n",
    "\n",
    "Haciendose las siguientes sustituciones:\n",
    "  * Ms y Mlle por Miss (en realidad Mlle es un nombre y por las caracerristicas de este pasajero se lo considera una Miss)\n",
    "  * 'Mme, Countess, 'Lady,the Countess y Dona por Mrs\n",
    "  * Mme, countess y lady por Mrs \n",
    "  * Los títulos de Dr, Col, Major, Jonkheer, Capt, Sir, Don y Rev se reemplazan por Mr (señor) porque esos pasajeros tienen características similares. \n"
   ]
  },
  {
   "cell_type": "code",
   "execution_count": 7,
   "metadata": {},
   "outputs": [
    {
     "name": "stdout",
     "output_type": "stream",
     "text": [
      "        Edad                        \n",
      "       count       mean    min   max\n",
      "Titulo                              \n",
      "Master    53   5.482642   0.33  14.5\n",
      "Miss     213  21.824366   0.17  63.0\n",
      "Mr       606  32.811056  11.00  80.0\n",
      "Mrs      174  36.971264  14.00  76.0\n",
      "       Sobreviviente\n",
      "                mean\n",
      "Titulo              \n",
      "Master      0.575000\n",
      "Miss        0.702703\n",
      "Mr          0.161710\n",
      "Mrs         0.796875\n"
     ]
    },
    {
     "data": {
      "image/png": "[encoded data removed]",
      "text/plain": [
       "<Figure size 1800x720 with 1 Axes>"
      ]
     },
     "metadata": {
      "needs_background": "light"
     },
     "output_type": "display_data"
    },
    {
     "data": {
      "image/png": "[encoded data removed]",
      "text/plain": [
       "<Figure size 720x360 with 1 Axes>"
      ]
     },
     "metadata": {
      "needs_background": "light"
     },
     "output_type": "display_data"
    }
   ],
   "source": [
    "# Remplazo de valores\n",
    "for df in dfs:\n",
    "    df.Titulo=df.Titulo.replace(['Ms', 'Mlle'], 'Miss')\n",
    "    df.Titulo=df.Titulo.replace(['Mme', 'Countess', 'Lady','the Countess', 'Dona'], 'Mrs')\n",
    "    df.Titulo=df.Titulo.replace(['Dr', 'Rev', 'Sir', 'Col', 'Major',  'Capt', 'Jonkheer', 'Don'], 'Mr')\n",
    "    \n",
    "df_all = concat_df(df_train, df_test)\n",
    "\n",
    "# Grafico con tratamiento\n",
    "\n",
    "#Tamaño grafico\n",
    "plt.figure(figsize=(25, 10))\n",
    "#varibles del grafico\n",
    "sns.barplot(x= df_all['Titulo'].value_counts().index, y=df_all['Titulo'].value_counts().values)\n",
    "#Titulo grafico\n",
    "plt.title(\"Titulos-Pasajeros\",fontsize=50)\n",
    "#Tamaño y nombre de titulos ejes\n",
    "plt.xlabel(\"Titulo\", size = 30)\n",
    "plt.ylabel(\"Pasajeros\", size = 30)\n",
    "#Tamaño letras ejes\n",
    "plt.tick_params(labelsize=20)\n",
    "\n",
    "# Para ver la tasa de supervivencia, segun titulo y edades\n",
    "print(df_all[['Titulo', 'Edad']].groupby(['Titulo'], as_index=False).agg(['count', 'mean', 'min', 'max' ]))\n",
    "print(df_train[['Titulo', 'Sobreviviente']].groupby(['Titulo'], as_index=False).agg(['mean']))\n",
    "\n",
    "# bar_chart(df_train, 'Titulo') # Funcion definida previamente\n",
    "# Tit_edad =df_all[['Titulo', 'Edad']].groupby(['Titulo'], as_index=False).agg(['count', 'mean', 'min', 'max' ])\n",
    "# Tit_Sob = df_all[['Titulo', 'Sobreviviente']].groupby(['Titulo'], as_index=False).agg(['mean'])\n",
    "# pd.merge(Tit_edad, Tit_Sob, on='Titulo')\n",
    "\n",
    "bar_chart(df_train, 'Titulo') # Funcion definida previamente"
   ]
  },
  {
   "cell_type": "markdown",
   "metadata": {},
   "source": [
    "**Conclusiones:**  \n",
    "    Se observa que para los titulos de mujeres la supervivencia varia en menos de un 10% variando entre 70 a 79% segun su titulo en cuanto a los hombres varia de un 57% a 16% la probabilidad de supervivencia"
   ]
  },
  {
   "cell_type": "markdown",
   "metadata": {},
   "source": [
    "#### 4.1.2. Pareja\n",
    "Dada la dificultad y la poca relevancia de dicha variable se decidio no tenerla en cuenta para este analisis. "
   ]
  },
  {
   "cell_type": "markdown",
   "metadata": {},
   "source": [
    "En caso de querer considerar dicha informacion se debe marcar de alguna forma los valores repetidos \"par\", de esta forma quedaran marcados quienes viajan con su pareja (Mr y Mrs). Algunas alternativas para hacerlo podrian ser:\n",
    "   1. Buscar valores unicos y contarlos, despues crear una nueva columna que los marque (si el conte da 1 esta solo si el conteo da 2 esta con la pareja, si da distinto algo raro hay)\n",
    "   2. Ordenar los valores alfabeticamente y cada valor chequear si se repite justo en la casilla anterior o la posterior, si lo hace marcar que esta con la pareja sino esta solo\n",
    "   \n",
    "   Se probaron los codigos de acontinuacion pero los resultados no fueron aceptables\n",
    "   \n",
    "   \n",
    "Quedaron varios valores con contetino = \"\" seria vacio pero no marca Nan\n",
    "Para verlos correr el sigueitne codigo\n",
    "\n",
    "\n",
    "#Busca cuantas veces se repite un valor  \n",
    "buscar = df_train[df_train['par'] == '']  \n",
    "buscar\n",
    "\n",
    "#Para contarlos  \n",
    "len(buscar)\n",
    "\n",
    "\n"
   ]
  },
  {
   "cell_type": "code",
   "execution_count": 8,
   "metadata": {},
   "outputs": [],
   "source": [
    "# # creaa una columana (\"par\") donde estan los nombres propios de las personas y en el caso de las casadas (Mrs) el nombre de su pareja\n",
    "# parejas = df_train[\"Nombre\"].str.split(\".\", n = 1, expand = True)[1].str.split(\"(\", expand=True)\n",
    "# df_train[\"par\"]= parejas[0]\n",
    "\n",
    "# df_train.par = df_train.par.str.strip() # Elimina espacios en blanco al principio y final"
   ]
  },
  {
   "cell_type": "code",
   "execution_count": 9,
   "metadata": {},
   "outputs": [],
   "source": [
    "# #Cuando se verificio el numero de repiticiones de cada valor hubo valores muy extraños\n",
    "\n",
    "# for data in df_train['par']:\n",
    "#     buscar = df_train[df_train['par'] == data]\n",
    "#     repeticiones = len(buscar)\n",
    "#     print(repeticiones)"
   ]
  },
  {
   "cell_type": "markdown",
   "metadata": {},
   "source": [
    "### 4.2. Edades\n",
    "Se completan los datos faltantes de las edades en base al promedio de la edad de cada grupo segun su titulo y luego se dividiran los datos de las edades en distintos grupos de caracteristicas similares para que los valores extremos no alteren la serie.\n",
    "\n"
   ]
  },
  {
   "cell_type": "code",
   "execution_count": 10,
   "metadata": {},
   "outputs": [
    {
     "name": "stderr",
     "output_type": "stream",
     "text": [
      "C:\\ProgramData\\Anaconda3\\lib\\site-packages\\seaborn\\axisgrid.py:243: UserWarning: The `size` parameter has been renamed to `height`; please update your code.\n",
      "  warnings.warn(msg, UserWarning)\n"
     ]
    },
    {
     "name": "stdout",
     "output_type": "stream",
     "text": [
      "        Edad                        \n",
      "       count       mean    min   max\n",
      "Titulo                              \n",
      "Master    53   5.482642   0.33  14.5\n",
      "Miss     213  21.824366   0.17  63.0\n",
      "Mr       606  32.811056  11.00  80.0\n",
      "Mrs      174  36.971264  14.00  76.0\n"
     ]
    },
    {
     "data": {
      "text/plain": [
       "<matplotlib.axes._subplots.AxesSubplot at 0x2664f609640>"
      ]
     },
     "execution_count": 10,
     "metadata": {},
     "output_type": "execute_result"
    },
    {
     "data": {
      "image/png": "[encoded data removed]",
      "text/plain": [
       "<Figure size 720x360 with 2 Axes>"
      ]
     },
     "metadata": {
      "needs_background": "light"
     },
     "output_type": "display_data"
    },
    {
     "data": {
      "image/png": "[encoded data removed]",
      "text/plain": [
       "<Figure size 576x432 with 1 Axes>"
      ]
     },
     "metadata": {
      "needs_background": "light"
     },
     "output_type": "display_data"
    }
   ],
   "source": [
    "# Histograma\n",
    "grid = sns.FacetGrid(df_train, col='Sobreviviente', size=5)\n",
    "grid.map(plt.hist, 'Edad', alpha=.5, bins=10)\n",
    "# TITULO TOTAL\n",
    "# TITULO EJE VERTICAL\n",
    "\n",
    "# Tabla con valores relevantes\n",
    "df_all = concat_df(df_train, df_test)\n",
    "print(df_all[['Titulo', 'Edad']].groupby(['Titulo'], as_index=False).agg(['count', 'mean', 'min', 'max' ]))\n",
    "\n",
    "# Diagrama de Bigotes Edad-Titulo \n",
    "plt.figure(figsize=(8,6))\n",
    "sns.boxplot(x='Titulo', y= 'Edad', data= df_all)\n",
    "\n"
   ]
  },
  {
   "cell_type": "markdown",
   "metadata": {},
   "source": [
    "**No se considero ningun tratamiento especial para los valores atipicos.**"
   ]
  },
  {
   "cell_type": "markdown",
   "metadata": {},
   "source": [
    "### 4.2.1. Completacion de datos faltantes\n",
    "Si bien se vio una cierta relacion de la edad en base a los integrnates de la familia (hermanos e hijos), se considera aceptable completar los datos faltantes unicamente ne base a promedios de la edad promedio segun titulo"
   ]
  },
  {
   "cell_type": "code",
   "execution_count": 11,
   "metadata": {},
   "outputs": [],
   "source": [
    "# Completar las edades en base a la edad promedio de los grupos en los titulos\n",
    "\n",
    "df_all = concat_df(df_train, df_test)\n",
    "df_train.Edad= df_all.groupby('Titulo')['Edad'].transform(lambda grp: grp.fillna(round(np.mean(grp), 0)))\n",
    "df_test.Edad= df_all.groupby('Titulo')['Edad'].transform(lambda grp: grp.fillna(round(np.mean(grp), 0)))\n",
    "\n",
    "## Descomentar para ver: \n",
    "\n",
    "##si cargo los datos de las edades\n",
    "# print('Datos faltantes:')\n",
    "# print(pd.isnull(df_train).sum())\n",
    "# print(pd.isnull(df_test).sum())\n",
    "\n",
    "# # Para filtrado de datos si hay que revisar algo\n",
    "\n",
    "# Opcion 1\n",
    "# df_train_mask=df_train['Titulo']== 'Master'\n",
    "# positions = np.flatnonzero(df_train_mask)\n",
    "# filtered_df=df_train.iloc[positions]\n",
    "# filtered_df\n",
    "\n",
    "# Opcion 2\n",
    "# df_train[(df_train.Edad.notnull()) & (df_train.Titulo == 'Miss') & (df_train.Edad > 50)   ]\n",
    "\n"
   ]
  },
  {
   "cell_type": "markdown",
   "metadata": {},
   "source": [
    "#### 4.2.2. Division en Rangos\n",
    "Se agrupan las edades segun rangos considerados de caracteristicas similares, de forma tal que los valores extremos no afecten a la serie."
   ]
  },
  {
   "cell_type": "code",
   "execution_count": 12,
   "metadata": {
    "scrolled": true
   },
   "outputs": [
    {
     "name": "stdout",
     "output_type": "stream",
     "text": [
      "       Sobreviviente          \n",
      "               count      mean\n",
      "Edad                          \n",
      "0-8               58  0.655172\n",
      "8-15              29  0.448276\n",
      "15-18             56  0.375000\n",
      "18-25            198  0.383838\n",
      "25-40            400  0.347500\n",
      "40-60            128  0.390625\n",
      "60-100            22  0.227273\n"
     ]
    },
    {
     "data": {
      "image/png": "[encoded data removed]",
      "text/plain": [
       "<Figure size 720x360 with 1 Axes>"
      ]
     },
     "metadata": {
      "needs_background": "light"
     },
     "output_type": "display_data"
    }
   ],
   "source": [
    "#Creo varios grupos de acuerdo a bandas de las edades\n",
    "#Bandas: 0-8, 9-15, 16-18, 19-25, 26-40, 41-60, 61-100\n",
    "bins = [0, 8, 15, 18, 25, 40, 60, 100]\n",
    "names = ['0-8', '8-15', '15-18', '18-25', '25-40', '40-60', '60-100']\n",
    "df_train['Edad'] = pd.cut(df_train['Edad'], bins, labels = names)\n",
    "df_test['Edad'] = pd.cut(df_test['Edad'], bins, labels = names)\n",
    "\n",
    "\n",
    "# Tabla para ver los % de muertos\n",
    "print(df_train[['Edad', 'Sobreviviente']].groupby(['Edad'], as_index=False).agg(['count','mean']))\n",
    "\n",
    "\n",
    "# LLama a la funcion para graficar la cantidad de muertos en base a los grupos de las edades\n",
    "bar_chart(df_train,'Edad')\n",
    "\n",
    "\n"
   ]
  },
  {
   "cell_type": "code",
   "execution_count": 13,
   "metadata": {},
   "outputs": [
    {
     "name": "stdout",
     "output_type": "stream",
     "text": [
      "       Sobreviviente          \n",
      "               count      mean\n",
      "Edad                          \n",
      "0-8               58  0.655172\n",
      "8-15              29  0.448276\n",
      "15-18             56  0.375000\n",
      "18-25            198  0.383838\n",
      "25-40            400  0.347500\n",
      "40-60            128  0.390625\n",
      "60-100            22  0.227273\n"
     ]
    },
    {
     "data": {
      "image/png": "[encoded data removed]",
      "text/plain": [
       "<Figure size 720x360 with 1 Axes>"
      ]
     },
     "metadata": {
      "needs_background": "light"
     },
     "output_type": "display_data"
    }
   ],
   "source": [
    "\n",
    "# Tabla para ver los % de muertos\n",
    "print(df_train[['Edad', 'Sobreviviente']].groupby(['Edad'], as_index=False).agg(['count','mean']))\n",
    "\n",
    "\n",
    "# LLama a la funcion para graficar la cantidad de muertos en base a los grupos de las edades\n",
    "bar_chart(df_train,'Edad')"
   ]
  },
  {
   "cell_type": "markdown",
   "metadata": {},
   "source": [
    "**Conlución**  \n",
    "Se observa en los extremos que a medida que aumenta la edad las probabilidades de supervivencia se reducen sin embargo, pero rangos de edades entre 15 y 60 no se presenta un comportamiento tan claro"
   ]
  },
  {
   "cell_type": "markdown",
   "metadata": {},
   "source": [
    "**Planteos que se podrían considerar del analisis**\n",
    "\n",
    "¿Deberia hacer algún tratamiento a los valores extremos? \n",
    "¿Es correcto dividir las edades en rangos? Por que?"
   ]
  },
  {
   "cell_type": "markdown",
   "metadata": {},
   "source": [
    "# Tamaño de familia\n",
    "Se considera errado considerar el tambaño de la familia como la suma de los hermanos e hijos ya que si se observa dichas variables en la correlacion del  mapa de calor una de estas es inversamente proporcional a la sobrevivencia y la otra es proporcional. \n"
   ]
  },
  {
   "cell_type": "code",
   "execution_count": 14,
   "metadata": {},
   "outputs": [],
   "source": [
    "# #creando una nueva columna combinando hermanos e hijos\n",
    "# for df in dfs:\n",
    "#     df[\"TamFam\"] = df[\"Hermanos\"] + df[\"Hijos\"]"
   ]
  },
  {
   "cell_type": "markdown",
   "metadata": {},
   "source": [
    "# DUDAS\n",
    "Es conveniente juntar familia e hijos como tamaño de familia y eliminar estas 2 columnas? Por que?"
   ]
  },
  {
   "cell_type": "markdown",
   "metadata": {},
   "source": [
    "### 4.3. Embarque\n",
    "Embarked es una característica categórica que indica en que puerto se embarcaron (C = Cherburgo; Q = Queenstown; S = Southampton) y solo hay 2 valores perdidos en todo el conjunto de datos. Ambos pasajeros son mujeres, de clase alta y tienen el mismo número de boleto. Esto significa que se conocen y embarcaron juntos desde el mismo puerto. El valor del modo Embarcado para una pasajera de clase alta es C (Cherburgo), pero esto no significa necesariamente que hayan embarcado desde ese puerto."
   ]
  },
  {
   "cell_type": "code",
   "execution_count": 15,
   "metadata": {},
   "outputs": [
    {
     "data": {
      "text/html": [
       "<div>\n",
       "<style scoped>\n",
       "    .dataframe tbody tr th:only-of-type {\n",
       "        vertical-align: middle;\n",
       "    }\n",
       "\n",
       "    .dataframe tbody tr th {\n",
       "        vertical-align: top;\n",
       "    }\n",
       "\n",
       "    .dataframe thead th {\n",
       "        text-align: right;\n",
       "    }\n",
       "</style>\n",
       "<table border=\"1\" class=\"dataframe\">\n",
       "  <thead>\n",
       "    <tr style=\"text-align: right;\">\n",
       "      <th></th>\n",
       "      <th>Sin_nombre</th>\n",
       "      <th>ID</th>\n",
       "      <th>Sobreviviente</th>\n",
       "      <th>Clase</th>\n",
       "      <th>Nombre</th>\n",
       "      <th>Sexo</th>\n",
       "      <th>Edad</th>\n",
       "      <th>Hermanos</th>\n",
       "      <th>Hijos</th>\n",
       "      <th>Ticket</th>\n",
       "      <th>Tarifa</th>\n",
       "      <th>Cabina</th>\n",
       "      <th>Embarque</th>\n",
       "      <th>Titulo</th>\n",
       "    </tr>\n",
       "  </thead>\n",
       "  <tbody>\n",
       "    <tr>\n",
       "      <th>61</th>\n",
       "      <td>61</td>\n",
       "      <td>62</td>\n",
       "      <td>1</td>\n",
       "      <td>1</td>\n",
       "      <td>Icard, Miss. Amelie</td>\n",
       "      <td>female</td>\n",
       "      <td>25-40</td>\n",
       "      <td>0</td>\n",
       "      <td>0</td>\n",
       "      <td>113572</td>\n",
       "      <td>80.0</td>\n",
       "      <td>B28</td>\n",
       "      <td>NaN</td>\n",
       "      <td>Miss</td>\n",
       "    </tr>\n",
       "    <tr>\n",
       "      <th>829</th>\n",
       "      <td>829</td>\n",
       "      <td>830</td>\n",
       "      <td>1</td>\n",
       "      <td>1</td>\n",
       "      <td>Stone, Mrs. George Nelson (Martha Evelyn)</td>\n",
       "      <td>female</td>\n",
       "      <td>60-100</td>\n",
       "      <td>0</td>\n",
       "      <td>0</td>\n",
       "      <td>113572</td>\n",
       "      <td>80.0</td>\n",
       "      <td>B28</td>\n",
       "      <td>NaN</td>\n",
       "      <td>Mrs</td>\n",
       "    </tr>\n",
       "  </tbody>\n",
       "</table>\n",
       "</div>"
      ],
      "text/plain": [
       "     Sin_nombre   ID  Sobreviviente  Clase  \\\n",
       "61           61   62              1      1   \n",
       "829         829  830              1      1   \n",
       "\n",
       "                                        Nombre    Sexo    Edad  Hermanos  \\\n",
       "61                         Icard, Miss. Amelie  female   25-40         0   \n",
       "829  Stone, Mrs. George Nelson (Martha Evelyn)  female  60-100         0   \n",
       "\n",
       "     Hijos  Ticket  Tarifa Cabina Embarque Titulo  \n",
       "61       0  113572    80.0    B28      NaN   Miss  \n",
       "829      0  113572    80.0    B28      NaN    Mrs  "
      ]
     },
     "execution_count": 15,
     "metadata": {},
     "output_type": "execute_result"
    }
   ],
   "source": [
    "# Busqueda valores faltantes  de embarque (solo habia valores faltantes en la data de entrenamiento)\n",
    "df_train[df_train['Embarque'].isnull()]\n"
   ]
  },
  {
   "cell_type": "markdown",
   "metadata": {},
   "source": [
    "Cuando busqué en Google a Stone, la Sra. George Nelson (Martha Evelyn), descubrí que se embarcó desde S (Southampton) con su criada Amelie Icard, en esta página [Martha Evelyn Stone: Titanic Survivor](https://www.encyclopedia-titanica.org/titanic-survivor/martha-evelyn-stone.html).\n",
    "\n",
    "La Sra. Stone abordó el Titanic en Southampton el 10 de abril de 1912 y viajaba en primera clase con su criada Amelie Icard. Ocupaba la cabina B-28.\n",
    "\n",
    "Los valores que faltan en Embarked se rellenan con S con esta información."
   ]
  },
  {
   "cell_type": "code",
   "execution_count": 16,
   "metadata": {},
   "outputs": [
    {
     "data": {
      "text/html": [
       "<div>\n",
       "<style scoped>\n",
       "    .dataframe tbody tr th:only-of-type {\n",
       "        vertical-align: middle;\n",
       "    }\n",
       "\n",
       "    .dataframe tbody tr th {\n",
       "        vertical-align: top;\n",
       "    }\n",
       "\n",
       "    .dataframe thead tr th {\n",
       "        text-align: left;\n",
       "    }\n",
       "\n",
       "    .dataframe thead tr:last-of-type th {\n",
       "        text-align: right;\n",
       "    }\n",
       "</style>\n",
       "<table border=\"1\" class=\"dataframe\">\n",
       "  <thead>\n",
       "    <tr>\n",
       "      <th></th>\n",
       "      <th colspan=\"2\" halign=\"left\">Sobreviviente</th>\n",
       "    </tr>\n",
       "    <tr>\n",
       "      <th></th>\n",
       "      <th>count</th>\n",
       "      <th>mean</th>\n",
       "    </tr>\n",
       "    <tr>\n",
       "      <th>Embarque</th>\n",
       "      <th></th>\n",
       "      <th></th>\n",
       "    </tr>\n",
       "  </thead>\n",
       "  <tbody>\n",
       "    <tr>\n",
       "      <th>C</th>\n",
       "      <td>168</td>\n",
       "      <td>0.553571</td>\n",
       "    </tr>\n",
       "    <tr>\n",
       "      <th>Q</th>\n",
       "      <td>77</td>\n",
       "      <td>0.389610</td>\n",
       "    </tr>\n",
       "    <tr>\n",
       "      <th>S</th>\n",
       "      <td>646</td>\n",
       "      <td>0.339009</td>\n",
       "    </tr>\n",
       "  </tbody>\n",
       "</table>\n",
       "</div>"
      ],
      "text/plain": [
       "         Sobreviviente          \n",
       "                 count      mean\n",
       "Embarque                        \n",
       "C                  168  0.553571\n",
       "Q                   77  0.389610\n",
       "S                  646  0.339009"
      ]
     },
     "execution_count": 16,
     "metadata": {},
     "output_type": "execute_result"
    },
    {
     "data": {
      "image/png": "[encoded data removed]",
      "text/plain": [
       "<Figure size 720x360 with 1 Axes>"
      ]
     },
     "metadata": {
      "needs_background": "light"
     },
     "output_type": "display_data"
    }
   ],
   "source": [
    "# Llenando los valores faltantes en Embarked con S\n",
    "df_train['Embarque'] = df_train['Embarque'].fillna('S')\n",
    "\n",
    "# LLama a la funcion para graficar la cantidad de muertos en base a los grupos de las edades\n",
    "bar_chart(df_train,'Embarque')\n",
    "\n",
    "# Tabla para ver los % de muertos\n",
    "df_train[['Embarque', 'Sobreviviente']].groupby(['Embarque'], as_index=False).agg(['count','mean'])"
   ]
  },
  {
   "cell_type": "markdown",
   "metadata": {},
   "source": [
    "**Conclusión:**  \n",
    "Se observa que una gran relacion entre las probabildades de supervivencia y el puerto en que se embarco"
   ]
  },
  {
   "cell_type": "markdown",
   "metadata": {},
   "source": [
    "### 4.4. Tarifa\n",
    "Como se observa a continuacion solo hay un pasajero al que le falta el valor de la tarifa. Podemos suponer que Fare está relacionado con el tamaño de la familia (Parch y SibSp) y las características de Pclass. El valor medio de la tarifa de un hombre con un boleto de tercera clase y sin familia es una opción lógica para completar el valor que falta."
   ]
  },
  {
   "cell_type": "code",
   "execution_count": 17,
   "metadata": {},
   "outputs": [
    {
     "name": "stdout",
     "output_type": "stream",
     "text": [
      "     Sin_nombre    ID  Clase              Nombre  Sexo   Edad  Hermanos  \\\n",
      "152         152  1044      3  Storey, Mr. Thomas  male  40-60         0   \n",
      "\n",
      "     Hijos Ticket  Tarifa Cabina Embarque Titulo  \n",
      "152      0   3701     NaN    NaN        S     Mr  \n"
     ]
    }
   ],
   "source": [
    "print(df_test[df_test['Tarifa'].isnull()]) # busca el valor nulo\n",
    "\n",
    "med_tar = df_train.groupby(['Clase', 'Hermanos', 'Hijos']).Tarifa.median()[3][0][0]\n",
    "# Completar el valor faltante en la tarifa con la tarifa mediana de un pasajero solo de tercera clase\n",
    "df_test['Tarifa'] = df_test['Tarifa'].fillna(med_tar)"
   ]
  },
  {
   "cell_type": "markdown",
   "metadata": {},
   "source": [
    "Como se observa a continuacion los valores de las tarifas se concentran en valores bajos, por lo que se considera apropiado vincularlos por rangos en base a la cantidad de valores "
   ]
  },
  {
   "cell_type": "code",
   "execution_count": 18,
   "metadata": {
    "scrolled": true
   },
   "outputs": [
    {
     "name": "stdout",
     "output_type": "stream",
     "text": [
      "count    1308.000000\n",
      "mean       33.295479\n",
      "std        51.758668\n",
      "min         0.000000\n",
      "25%         7.895800\n",
      "50%        14.454200\n",
      "75%        31.275000\n",
      "max       512.329200\n",
      "Name: Tarifa, dtype: float64\n",
      "       Sobreviviente          \n",
      "               count      mean\n",
      "Tarifa                        \n",
      "0-5                2  0.000000\n",
      "5-10             319  0.206897\n",
      "10-15            122  0.385246\n",
      "15-20             57  0.508772\n",
      "20-30            142  0.443662\n",
      "30-40             58  0.396552\n",
      "40-60             54  0.574074\n",
      "60-80             48  0.520833\n",
      "80-100            21  0.857143\n",
      "<100              53  0.735849"
     ]
    },
    {
     "name": "stderr",
     "output_type": "stream",
     "text": [
      "C:\\ProgramData\\Anaconda3\\lib\\site-packages\\seaborn\\axisgrid.py:243: UserWarning: The `size` parameter has been renamed to `height`; please update your code.\n",
      "  warnings.warn(msg, UserWarning)\n"
     ]
    },
    {
     "name": "stdout",
     "output_type": "stream",
     "text": [
      "\n"
     ]
    },
    {
     "data": {
      "image/png": "[encoded data removed]",
      "text/plain": [
       "<Figure size 576x432 with 1 Axes>"
      ]
     },
     "metadata": {
      "needs_background": "light"
     },
     "output_type": "display_data"
    },
    {
     "data": {
      "image/png": "[encoded data removed]",
      "text/plain": [
       "<Figure size 1152x576 with 2 Axes>"
      ]
     },
     "metadata": {
      "needs_background": "light"
     },
     "output_type": "display_data"
    },
    {
     "data": {
      "image/png": "[encoded data removed]",
      "text/plain": [
       "<Figure size 720x360 with 1 Axes>"
      ]
     },
     "metadata": {
      "needs_background": "light"
     },
     "output_type": "display_data"
    }
   ],
   "source": [
    "print(df_all['Tarifa'].describe())\n",
    "\n",
    "# Diagrama de Bigotes Edad-Titulo \n",
    "plt.figure(figsize=(8,6))\n",
    "sns.boxplot(data= df_all['Tarifa'])\n",
    "\n",
    "# Histograma\n",
    "grid = sns.FacetGrid(df_train, col='Sobreviviente', size=8)\n",
    "grid.map(plt.hist, 'Tarifa', alpha=.5, bins=20)\n",
    "# TITULO TOTAL\n",
    "# TITULO EJE VERTICAL\n",
    "\n",
    "# VER COMO DIVIDIRLO DE UNA FORMA MAS ADECUADA\n",
    "\n",
    "#Creo varios grupos de acuerdo a bandas de las edades\n",
    "bins = [0, 5, 10, 15, 20, 30, 40, 60,80,100, 99999]\n",
    "names = ['0-5', '5-10', '10-15', '15-20', '20-30', '30-40', '40-60', '60-80', '80-100','<100']\n",
    "df_train['Tarifa'] = pd.cut(df_train['Tarifa'], bins, labels = names)\n",
    "df_test['Tarifa'] = pd.cut(df_test['Tarifa'], bins, labels = names)\n",
    "\n",
    "\n",
    "# Tabla para ver los % de muertos\n",
    "print(df_train[['Tarifa', 'Sobreviviente']].groupby(['Tarifa'], as_index=False).agg(['count','mean']))\n",
    "\n",
    "\n",
    "# LLama a la funcion para graficar la cantidad de muertos en base a los grupos de las edades\n",
    "bar_chart(df_train,'Tarifa')\n",
    "\n"
   ]
  },
  {
   "cell_type": "markdown",
   "metadata": {},
   "source": [
    "**Conclusión**  \n",
    "Se observa que en general los pasajeros que pagaron mayores tarifas suelen terner mas probabilidad de supervivencia"
   ]
  },
  {
   "cell_type": "markdown",
   "metadata": {},
   "source": [
    "### 4.5. Cabina\n",
    "La característica de la cabina es un poco complicada y necesita más exploración. Falta la gran parte de la función de cabina y la función en sí no se puede ignorar por completo porque algunas de las cabañas pueden tener tasas de supervivencia más altas. Resulta que la primera letra de los valores de Cabina son las cubiertas en las que se ubican las cabinas. Esas cubiertas estaban separadas principalmente para una clase de pasajeros, pero algunas de ellas fueron utilizadas por varias clases de pasajeros.\n",
    "\n",
    "\n",
    "![](Titanic_cabin.PNG)"
   ]
  },
  {
   "cell_type": "markdown",
   "metadata": {},
   "source": [
    "   * En la cubierta del barco había 6 habitaciones etiquetadas como T, U, W, X, Y, Z pero solo la cabina T está presente en el conjunto de datos\n",
    "   * Las cubiertas A, B y C eran solo para pasajeros de primera clase.\n",
    "   * Las cubiertas D y E eran para todas las clases.\n",
    "   * Las cubiertas F y G eran para pasajeros de 2da y 3ra clase\n",
    "   * De ir de A a G, la distancia a la escalera aumenta, lo que podría ser un factor de supervivencia."
   ]
  },
  {
   "cell_type": "markdown",
   "metadata": {},
   "source": [
    "# Poner grafico de distribucion pasajeros clase"
   ]
  },
  {
   "cell_type": "markdown",
   "metadata": {},
   "source": [
    "Caracteristicas de los pasajeros segun clase y cubierta:\n",
    "   * El 100% de las cubiertas A, B y C son pasajeros de 1ra clase.\n",
    "   * La cubierta D tiene un 87% de pasajeros de primera clase y un 13% de pasajeros de segunda clase\n",
    "   * La cubierta E tiene 83% de pasajeros de primera clase, 10% de segunda clase y 7% de pasajeros de tercera clase\n",
    "   * La cubierta F tiene un 62% de pasajeros de 2da clase y un 38% de pasajeros de 3ra clase\n",
    "   * El 100% de la cubierta G son pasajeros de tercera clase.\n",
    "   * Hay una persona en la cubierta del barco en la cabina T y es un pasajero de primera clase. El pasajero de la cabina T tiene el mayor parecido con los pasajeros de la cubierta A, por lo que se agrupa con la cubierta A\n",
    "   * Los pasajeros etiquetados como M son los valores que faltan en la función Cabina. No creo que sea posible encontrar la cubierta real de esos pasajeros, así que decidí usar M como una cubierta."
   ]
  },
  {
   "cell_type": "code",
   "execution_count": 19,
   "metadata": {
    "scrolled": true
   },
   "outputs": [
    {
     "name": "stdout",
     "output_type": "stream",
     "text": [
      "Valores unicicos de Training Set:  ['M' 'C' 'E' 'G' 'D' 'A' 'B' 'F']\n",
      "Valores unicicos de Test Set:  ['M' 'B' 'E' 'A' 'C' 'D' 'F' 'G']\n",
      "Valores unicicos de Training Set: \n",
      " M      687\n",
      "ABC    122\n",
      "DE      65\n",
      "FG      17\n",
      "Name: Deck, dtype: int64\n",
      "Valores unicicos de Test Set: \n",
      " M      327\n",
      "ABC     60\n",
      "DE      22\n",
      "FG       9\n",
      "Name: Deck, dtype: int64\n",
      "     Sobreviviente          \n",
      "             count      mean\n",
      "Deck                        \n",
      "ABC            122  0.631148\n",
      "DE              65  0.753846\n",
      "FG              17  0.588235\n",
      "M              687  0.299854\n"
     ]
    },
    {
     "data": {
      "image/png": "[encoded data removed]",
      "text/plain": [
       "<Figure size 720x360 with 1 Axes>"
      ]
     },
     "metadata": {
      "needs_background": "light"
     },
     "output_type": "display_data"
    }
   ],
   "source": [
    "# Creación de la columna Deck a partir de la primera letra de la columna Cabin (M significa Missing)\n",
    "\n",
    "for df in dfs:\n",
    "    df['Deck'] = df['Cabina'].apply(lambda s: s[0] if pd.notnull(s) else 'M')\n",
    "\n",
    "    # Remplazo de deck en el pasajero en la cabina T\n",
    "    df_train['Deck'].replace(['T'],['A'],inplace=True) \n",
    "    \n",
    "    print('Valores unicicos de {}:  {}'.format(  df.name,df['Deck'].unique() ) )\n",
    "\n",
    "\n",
    "for df in dfs:\n",
    "    df['Deck'] = df['Deck'].replace(['A', 'B', 'C'], 'ABC')\n",
    "    df['Deck'] = df['Deck'].replace(['D', 'E'], 'DE')\n",
    "    df['Deck'] = df['Deck'].replace(['F', 'G'], 'FG')\n",
    "\n",
    "    print('Valores unicicos de {}: \\n {}'.format(  df.name,df['Deck'].value_counts() ) )\n",
    "    \n",
    "# LLama a la funcion para graficar la cantidad de muertos en base al Deck\n",
    "bar_chart(df_train,'Deck')\n",
    "\n",
    "# Tabla para ver los % de muertos\n",
    "print(df_train[['Deck', 'Sobreviviente']].groupby(['Deck'], as_index=False).agg(['count','mean']))\n"
   ]
  },
  {
   "cell_type": "markdown",
   "metadata": {},
   "source": [
    "Se observa las siguientes probabilidades de supervivencia segun el Deck:  \n",
    "ABC:            0.631148  \n",
    "DE:             0.753846  \n",
    "FG:             0.588235  \n",
    "M:              0.299854  "
   ]
  },
  {
   "cell_type": "markdown",
   "metadata": {},
   "source": [
    "## 4.B. Preparación de los datos para el uso de los algoritmos. \n",
    "Se ponene los datos en formato numerico para que los distintos modelos funcionen adecuadamente y se observa la correlación entre cada valor en un mapa de calor"
   ]
  },
  {
   "cell_type": "code",
   "execution_count": 20,
   "metadata": {},
   "outputs": [
    {
     "data": {
      "text/html": [
       "<div>\n",
       "<style scoped>\n",
       "    .dataframe tbody tr th:only-of-type {\n",
       "        vertical-align: middle;\n",
       "    }\n",
       "\n",
       "    .dataframe tbody tr th {\n",
       "        vertical-align: top;\n",
       "    }\n",
       "\n",
       "    .dataframe thead th {\n",
       "        text-align: right;\n",
       "    }\n",
       "</style>\n",
       "<table border=\"1\" class=\"dataframe\">\n",
       "  <thead>\n",
       "    <tr style=\"text-align: right;\">\n",
       "      <th></th>\n",
       "      <th>Sin_nombre</th>\n",
       "      <th>ID</th>\n",
       "      <th>Sobreviviente</th>\n",
       "      <th>Clase</th>\n",
       "      <th>Nombre</th>\n",
       "      <th>Sexo</th>\n",
       "      <th>Edad</th>\n",
       "      <th>Hermanos</th>\n",
       "      <th>Hijos</th>\n",
       "      <th>Ticket</th>\n",
       "      <th>Tarifa</th>\n",
       "      <th>Cabina</th>\n",
       "      <th>Embarque</th>\n",
       "      <th>Titulo</th>\n",
       "      <th>Deck</th>\n",
       "    </tr>\n",
       "  </thead>\n",
       "  <tbody>\n",
       "    <tr>\n",
       "      <th>0</th>\n",
       "      <td>0</td>\n",
       "      <td>1</td>\n",
       "      <td>0</td>\n",
       "      <td>3</td>\n",
       "      <td>Braund, Mr. Owen Harris</td>\n",
       "      <td>male</td>\n",
       "      <td>18-25</td>\n",
       "      <td>1</td>\n",
       "      <td>0</td>\n",
       "      <td>A/5 21171</td>\n",
       "      <td>5-10</td>\n",
       "      <td>NaN</td>\n",
       "      <td>S</td>\n",
       "      <td>Mr</td>\n",
       "      <td>M</td>\n",
       "    </tr>\n",
       "    <tr>\n",
       "      <th>1</th>\n",
       "      <td>1</td>\n",
       "      <td>2</td>\n",
       "      <td>1</td>\n",
       "      <td>1</td>\n",
       "      <td>Cumings, Mrs. John Bradley (Florence Briggs Th...</td>\n",
       "      <td>female</td>\n",
       "      <td>25-40</td>\n",
       "      <td>1</td>\n",
       "      <td>0</td>\n",
       "      <td>PC 17599</td>\n",
       "      <td>60-80</td>\n",
       "      <td>C85</td>\n",
       "      <td>C</td>\n",
       "      <td>Mrs</td>\n",
       "      <td>ABC</td>\n",
       "    </tr>\n",
       "    <tr>\n",
       "      <th>2</th>\n",
       "      <td>2</td>\n",
       "      <td>3</td>\n",
       "      <td>1</td>\n",
       "      <td>3</td>\n",
       "      <td>Heikkinen, Miss. Laina</td>\n",
       "      <td>female</td>\n",
       "      <td>25-40</td>\n",
       "      <td>0</td>\n",
       "      <td>0</td>\n",
       "      <td>STON/O2. 3101282</td>\n",
       "      <td>5-10</td>\n",
       "      <td>NaN</td>\n",
       "      <td>S</td>\n",
       "      <td>Miss</td>\n",
       "      <td>M</td>\n",
       "    </tr>\n",
       "    <tr>\n",
       "      <th>3</th>\n",
       "      <td>3</td>\n",
       "      <td>4</td>\n",
       "      <td>1</td>\n",
       "      <td>1</td>\n",
       "      <td>Futrelle, Mrs. Jacques Heath (Lily May Peel)</td>\n",
       "      <td>female</td>\n",
       "      <td>25-40</td>\n",
       "      <td>1</td>\n",
       "      <td>0</td>\n",
       "      <td>113803</td>\n",
       "      <td>40-60</td>\n",
       "      <td>C123</td>\n",
       "      <td>S</td>\n",
       "      <td>Mrs</td>\n",
       "      <td>ABC</td>\n",
       "    </tr>\n",
       "    <tr>\n",
       "      <th>4</th>\n",
       "      <td>4</td>\n",
       "      <td>5</td>\n",
       "      <td>0</td>\n",
       "      <td>3</td>\n",
       "      <td>Allen, Mr. William Henry</td>\n",
       "      <td>male</td>\n",
       "      <td>25-40</td>\n",
       "      <td>0</td>\n",
       "      <td>0</td>\n",
       "      <td>373450</td>\n",
       "      <td>5-10</td>\n",
       "      <td>NaN</td>\n",
       "      <td>S</td>\n",
       "      <td>Mr</td>\n",
       "      <td>M</td>\n",
       "    </tr>\n",
       "  </tbody>\n",
       "</table>\n",
       "</div>"
      ],
      "text/plain": [
       "   Sin_nombre  ID  Sobreviviente  Clase  \\\n",
       "0           0   1              0      3   \n",
       "1           1   2              1      1   \n",
       "2           2   3              1      3   \n",
       "3           3   4              1      1   \n",
       "4           4   5              0      3   \n",
       "\n",
       "                                              Nombre    Sexo   Edad  Hermanos  \\\n",
       "0                            Braund, Mr. Owen Harris    male  18-25         1   \n",
       "1  Cumings, Mrs. John Bradley (Florence Briggs Th...  female  25-40         1   \n",
       "2                             Heikkinen, Miss. Laina  female  25-40         0   \n",
       "3       Futrelle, Mrs. Jacques Heath (Lily May Peel)  female  25-40         1   \n",
       "4                           Allen, Mr. William Henry    male  25-40         0   \n",
       "\n",
       "   Hijos            Ticket Tarifa Cabina Embarque Titulo Deck  \n",
       "0      0         A/5 21171   5-10    NaN        S     Mr    M  \n",
       "1      0          PC 17599  60-80    C85        C    Mrs  ABC  \n",
       "2      0  STON/O2. 3101282   5-10    NaN        S   Miss    M  \n",
       "3      0            113803  40-60   C123        S    Mrs  ABC  \n",
       "4      0            373450   5-10    NaN        S     Mr    M  "
      ]
     },
     "execution_count": 20,
     "metadata": {},
     "output_type": "execute_result"
    }
   ],
   "source": [
    "df_train.head()"
   ]
  },
  {
   "cell_type": "code",
   "execution_count": 21,
   "metadata": {},
   "outputs": [],
   "source": [
    "#PONER MAS PROLIJO, CON UN CICLO FOR\n",
    "\n",
    "# Columnas a cambiar formato: Sexo, Edad, Embarque, Deck \n",
    "# Columnas a borrar: sin nombre, ID (solo para train), nombre, Ticket, Cabina, Titulo \n",
    "\n",
    "\n",
    "for df in dfs:\n",
    "    Replace_val(df, 'Embarque')\n",
    "    Replace_val(df, 'Deck')\n",
    "    Replace_val(df, 'Titulo')\n",
    "    Replace_val(df, 'Tarifa')\n",
    "    Replace_val(df, 'Edad')\n",
    "    Replace_val(df, 'Sexo')\n",
    "\n",
    "#Cambio los datos de sexos en números    VER SI SE CAMBIO ANTES, COMO Y PORQUE\n",
    "# df_train['Sexo'].replace(['female','male'],[0,1],inplace=True)\n",
    "# df_test['Sexo'].replace(['female','male'],[0,1],inplace=True)\n",
    "\n",
    "\n",
    "# #Cambio los datos de Edad en números\n",
    "# df_train['Edad'].replace( ['0-8', '8-15', '15-18', '18-25', '25-40', '40-60', '60-100'],[0,1,2,3,4,5,6],inplace=True)\n",
    "# df_test['Edad'].replace(['0-8', '8-15', '15-18', '18-25', '25-40', '40-60', '60-100'],[0,1,2,3,4,5,6],inplace=True)\n",
    "\n",
    "\n",
    "# #Cambio los datos de embarque en números\n",
    "# df_train['Embarque'].replace(['Q','S', 'C'],[0,1,2],inplace=True)\n",
    "# df_test['Embarque'].replace(['Q','S', 'C'],[0,1,2],inplace=True)\n",
    "\n",
    "\n",
    "# #Cambio los datos de embarque en números\n",
    "# df_train['Deck'].replace(['M','ABC', 'DE', 'FG'],[0,1,2,3],inplace=True)\n",
    "# df_test['Deck'].replace(['M','ABC', 'DE', 'FG'],[0,1,2,3],inplace=True)\n",
    "\n",
    "\n",
    "\n",
    "\n",
    "#Elimino las columnas que considero que no son necesarias para el analisis\n",
    "df_train = df_train.drop([\"Sin_nombre\",'ID','Nombre','Ticket', 'Cabina' ], axis=1)\n",
    "df_test = df_test.drop([\"Sin_nombre\",'Nombre','Ticket', 'Cabina'], axis=1)\n",
    "\n"
   ]
  },
  {
   "cell_type": "code",
   "execution_count": 22,
   "metadata": {},
   "outputs": [
    {
     "data": {
      "text/plain": [
       "Text(0.5, 1.0, 'Relaciones entre las variables numericas')"
      ]
     },
     "execution_count": 22,
     "metadata": {},
     "output_type": "execute_result"
    },
    {
     "data": {
      "image/png": "[encoded data removed]",
      "text/plain": [
       "<Figure size 720x576 with 2 Axes>"
      ]
     },
     "metadata": {
      "needs_background": "light"
     },
     "output_type": "display_data"
    }
   ],
   "source": [
    "# Hace una correlacion de variables con un mapa de calor: \n",
    "sns.heatmap(df_train.corr(), annot=True, cmap='coolwarm')\n",
    "fig=plt.gcf()\n",
    "fig.set_size_inches(10,8)\n",
    "plt.title('Relaciones entre las variables numericas', fontsize = 20)"
   ]
  },
  {
   "cell_type": "markdown",
   "metadata": {},
   "source": [
    "**CONCLUSIONES**  \n",
    "En el mapa se obserba que bajo la relacion entre la edad y la sobrevivencia **SE DEBE VER QUE PASO AHI, PARECE QUE SE EL TRATAMIENTO APLICADO NO FUE ADECUADO**, idem para tarifa"
   ]
  },
  {
   "cell_type": "markdown",
   "metadata": {},
   "source": [
    "## 5. APLICACION DE ALGORITMOS DE MACHINE LERNING"
   ]
  },
  {
   "cell_type": "code",
   "execution_count": 23,
   "metadata": {},
   "outputs": [],
   "source": [
    "#Separo la columna con la información de los sobrevivientes\n",
    "X = np.array(df_train.drop(['Sobreviviente'], 1))\n",
    "y = np.array(df_train['Sobreviviente'])\n",
    "\n",
    "#Separo los datos de \"train\" en entrenamiento y prueba para probar los algoritmos\n",
    "X_train, X_test, y_train, y_test = train_test_split(X, y, test_size=0.2)"
   ]
  },
  {
   "cell_type": "markdown",
   "metadata": {},
   "source": [
    "### 6.1. La Regresión Logística\n",
    "Es un método estadístico para predecir clases binarias. El resultado o variable objetivo es de naturaleza dicotómica. Dicotómica significa que solo hay dos clases posibles. Por ejemplo, se puede utilizar para problemas de detección de cáncer o calcular la probabilidad de que ocurra un evento.\n",
    "\n",
    "La Regresión Logística es uno de los algoritmos de Machine Learning más simples y más utilizados para la clasificación de dos clases. Es fácil de implementar y se puede usar como línea de base para cualquier problema de clasificación binaria. La Regresión Logística describe y estima la relación entre una variable binaria dependiente y las variables independientes.\n",
    "\n",
    "![Nombre_imagen](Regresion_logistica.jpg)"
   ]
  },
  {
   "cell_type": "code",
   "execution_count": 24,
   "metadata": {
    "scrolled": true
   },
   "outputs": [
    {
     "name": "stdout",
     "output_type": "stream",
     "text": [
      "Precisión Regresión Logística:\n",
      "0.824438202247191\n",
      "Matriz de Confusión:\n",
      "[[95 10]\n",
      " [18 56]]\n"
     ]
    }
   ],
   "source": [
    "##Regresión logística\n",
    "logreg = LogisticRegression()\n",
    "logreg.fit(X_train, y_train)\n",
    "Y_pred1 = logreg.predict(X_test)\n",
    "\n",
    "prec_RL = logreg.score(X_train, y_train)\n",
    "print('Precisión Regresión Logística:')\n",
    "print(prec_RL)\n",
    "\n",
    "# Matriz de Confusión\n",
    "matriz1 = confusion_matrix(y_test, Y_pred1)\n",
    "print('Matriz de Confusión:')\n",
    "print(matriz1)"
   ]
  },
  {
   "cell_type": "markdown",
   "metadata": {},
   "source": [
    "## 6.2. Algoritmo de vectores de soporte o Support Vector Machine\n",
    "Es un clasificador discriminatorio definido formalmente por un hiperplano de separación. En otras palabras, dados los datos de entrenamiento etiquetados el algoritmo genera un hiperplano óptimo que clasifica los nuevos ejemplos en dos espacios dimensionales, este hiperplano es una linea que divide un plano en dos partes donde en cada clase se encuentra en cada lado.\n",
    "\n",
    "![](Support_Vector_Machine.jpg)"
   ]
  },
  {
   "cell_type": "code",
   "execution_count": 25,
   "metadata": {},
   "outputs": [
    {
     "name": "stdout",
     "output_type": "stream",
     "text": [
      "Precisión Soporte de Vectores:\n",
      "0.8286516853932584\n",
      "Matriz de Confusión:\n",
      "[[95 10]\n",
      " [16 58]]\n"
     ]
    }
   ],
   "source": [
    "##Support Vector Machines\n",
    "svc = SVC()\n",
    "svc.fit(X_train, y_train)\n",
    "Y_pred2 = svc.predict(X_test)\n",
    "\n",
    "prec_SV = svc.score(X_train, y_train)\n",
    "print('Precisión Soporte de Vectores:')\n",
    "print(prec_SV )\n",
    "\n",
    "# Matriz de Confusión\n",
    "matriz2 = confusion_matrix(y_test, Y_pred2)\n",
    "print('Matriz de Confusión:')\n",
    "print(matriz2)"
   ]
  },
  {
   "cell_type": "markdown",
   "metadata": {},
   "source": [
    "## 6.3. Algoritmo K neighbors (KNN)\n",
    "Es uno de los algoritmos de clasificación más simples, incluso con tal simplicidad puede dar resultados altamente competitivos. Pertenece al dominio de aprendizaje supervisado y puede ser utilizado para el reconocimiento de patrones, extracción de datos y detección de intrusos.\n",
    "\n",
    "Este consiste en seleccionar un valor de K. Al momento del análisis los K datos más cercanos al valor que se desea predecir será la solución.\n",
    "\n",
    "![Nombre_imagen](K_neighbors.jpg)\n"
   ]
  },
  {
   "cell_type": "code",
   "execution_count": 26,
   "metadata": {},
   "outputs": [
    {
     "name": "stdout",
     "output_type": "stream",
     "text": [
      "Precisión Vecinos más Cercanos:\n",
      "0.8665730337078652\n",
      "Matriz de Confusión:\n",
      "[[91 14]\n",
      " [14 60]]\n"
     ]
    }
   ],
   "source": [
    "##K neighbors\n",
    "knn = KNeighborsClassifier(n_neighbors = 3)\n",
    "knn.fit(X_train, y_train)\n",
    "Y_pred3 = knn.predict(X_test)\n",
    "\n",
    "prec_KNN = knn.score(X_train, y_train)\n",
    "print('Precisión Vecinos más Cercanos:')\n",
    "print(prec_KNN)\n",
    "\n",
    "# Matriz de Confusión\n",
    "matriz3 = confusion_matrix(y_test, Y_pred3)\n",
    "print('Matriz de Confusión:')\n",
    "print(matriz3)"
   ]
  },
  {
   "cell_type": "markdown",
   "metadata": {},
   "source": [
    "## 6.4. Naive Bayes\n",
    "Es uno de los algoritmos más simples y poderosos para la clasificación basado en el Teorema de Bayes con una suposición de independencia entre los predictores. Asume  que el efecto de una característica particular en una clase es independiente de otras características. Esta suposición simplifica la computación, y por eso se considera ingenua. Esta suposición se denomina independencia condicional de clase.  \n",
    "La formula del teorema de Bayes es la siguiente:  \n",
    "P(h\\D)   =    (  P(D\\h)P(h)   )     /     P(D)  \n",
    "- P(h): probabilidad previa de h, es la probabilidad de que la hipótesis h sea cierta.  \n",
    "- P(D): probabilidad previa, es la probabilidad de los datos   \n",
    "- P(h|D): probabilidad posterior, es la probabilidad de la hipótesis h dada los datos D.  \n",
    "- P(D|h): es la probabilidad de los datos d dado que la hipótesis h era cierta. \n",
    " \n"
   ]
  },
  {
   "cell_type": "code",
   "execution_count": 27,
   "metadata": {},
   "outputs": [
    {
     "name": "stdout",
     "output_type": "stream",
     "text": [
      "Gaussian Naive Bayes:\n",
      "0.8089887640449438\n",
      "Matriz de Confusión:\n",
      "[[87 18]\n",
      " [14 60]]\n"
     ]
    }
   ],
   "source": [
    "##Naive Bayes\n",
    "GaussNB = GaussianNB()\n",
    "GaussNB.fit(X_train, y_train)\n",
    "Y_pred4 = GaussNB.predict(X_test)\n",
    "\n",
    "prec_GaussNB = GaussNB.score(X_train, y_train)\n",
    "print('Gaussian Naive Bayes:')\n",
    "print(prec_GaussNB)\n",
    "\n",
    "# Matriz de Confusión\n",
    "matriz4 = confusion_matrix(y_test, Y_pred4)\n",
    "print('Matriz de Confusión:')\n",
    "print(matriz4)"
   ]
  },
  {
   "cell_type": "markdown",
   "metadata": {},
   "source": [
    "## 6.5. Árbol de decisión\n",
    "Este algoritmo consiste en un diagrama de flujo, donde cada nivel es una pregunta con una respuesta de si o no. Eventualmente una respuesta te dará una solución al problema inicial. \n",
    "Un árbol de decisión tiene una estructura similar a un diagrama de flujo donde un nodo interno representa una característica o atributo, la rama representa una regla de decisión y cada nodo u hoja representa el resultado. El nodo superior de un árbol de decisión se conoce como nodo raíz.  \n",
    "La medida de selección de atributos es una heurística (arte o la ciencia del descubrimiento) para seleccionar el criterio de división que divide los datos de la mejor manera posible. También se conoce como reglas de partición porque nos ayuda a determinar puntos de ruptura para conjunto en un nodo dado.\n",
    "\n",
    "![Nombre_imagen](Arbol_de_decision.png)  \n",
    "    \n",
    "**Chequear que no haya sobreajuste**"
   ]
  },
  {
   "cell_type": "code",
   "execution_count": 28,
   "metadata": {},
   "outputs": [
    {
     "name": "stdout",
     "output_type": "stream",
     "text": [
      "Árbol de decisión:\n",
      "0.9101123595505618\n",
      "Matriz de Confusión:\n",
      "[[94 11]\n",
      " [20 54]]\n"
     ]
    }
   ],
   "source": [
    "from sklearn.tree import DecisionTreeClassifier\n",
    "##Arbol de decisión\n",
    "ArbDes = DecisionTreeClassifier(criterion = 'entropy')\n",
    "ArbDes.fit(X_train, y_train)\n",
    "Y_pred5 = ArbDes.predict(X_test)\n",
    "\n",
    "prec_ArbDes = ArbDes.score(X_train, y_train)\n",
    "print('Árbol de decisión:')\n",
    "print(prec_ArbDes)\n",
    "\n",
    "# Matriz de Confusión\n",
    "matriz5 = confusion_matrix(y_test, Y_pred5)\n",
    "print('Matriz de Confusión:')\n",
    "print(matriz5)"
   ]
  },
  {
   "cell_type": "markdown",
   "metadata": {},
   "source": [
    "## 6.6. Bosque Aleatorio\n",
    "Los Bosques Aleatorios crea árboles de decisión a partir de muestras de datos seleccionados al azar, obtiene predicciones de cada árbol y selecciona la mejor solución mediante votación.Técnicamente es un método de conjunto, basado en el enfoque de dividir y conquistar, de árboles de decisión generados en un conjunto de datos dividido al azar. Los árboles de decisión individuales se generan utilizando un indicador de selección de atributos, como la ganancia de información, la relación de ganancia y el índice Gini, para cada atributo. Cada árbol depende de una muestra aleatoria independiente. En un problema de clasificación, cada árbol vota y se elige la clase más popular como resultado final."
   ]
  },
  {
   "cell_type": "code",
   "execution_count": 29,
   "metadata": {},
   "outputs": [
    {
     "name": "stdout",
     "output_type": "stream",
     "text": [
      "Bosque Aleatorio:\n",
      "0.9030898876404494\n",
      "Matriz de Confusión:\n",
      "[[93 12]\n",
      " [18 56]]\n"
     ]
    }
   ],
   "source": [
    "from sklearn.ensemble import RandomForestClassifier\n",
    "##Bosque Aleatorio\n",
    "BosAle = RandomForestClassifier(n_estimators = 10, criterion = 'entropy')\n",
    "BosAle.fit(X_train, y_train)\n",
    "Y_pred6 = BosAle.predict(X_test)\n",
    "\n",
    "prec_BosAle = BosAle.score(X_train, y_train)\n",
    "print('Bosque Aleatorio:')\n",
    "print(prec_BosAle)\n",
    "\n",
    "# Matriz de Confusión\n",
    "matriz6 = confusion_matrix(y_test, Y_pred6)\n",
    "print('Matriz de Confusión:')\n",
    "print(matriz6)\n"
   ]
  },
  {
   "cell_type": "markdown",
   "metadata": {},
   "source": [
    "## 6.7. Metodo de ensamble\n",
    "Comprar los valores obtenidos de los metodos y adoptar el valor que tomen la mayoria. Ver como plantear\n"
   ]
  },
  {
   "cell_type": "code",
   "execution_count": 38,
   "metadata": {},
   "outputs": [
    {
     "name": "stdout",
     "output_type": "stream",
     "text": [
      "Resumen: \n",
      "  \n",
      "Precisión Regresión Logística:\n",
      "0.824438202247191\n",
      "Precisión Soporte de Vectores:\n",
      "0.8286516853932584\n",
      "Precisión Vecinos más Cercanos:\n",
      "0.8665730337078652\n",
      "Gaussian Naive Bayes:\n",
      "0.8089887640449438\n",
      "Árbol de decisión:\n",
      "0.9101123595505618\n",
      "Bosque Aleatorio:\n",
      "0.9030898876404494\n",
      "evc:\n",
      "0.9030898876404494\n"
     ]
    }
   ],
   "source": [
    "print(\"\"\"Resumen: \\n  \n",
    "Precisión Regresión Logística:\"\"\")\n",
    "print(prec_RL)\n",
    "print(\"Precisión Soporte de Vectores:\")\n",
    "print(prec_SV)\n",
    "print(\"Precisión Vecinos más Cercanos:\")\n",
    "print(prec_KNN)\n",
    "print('Gaussian Naive Bayes:')\n",
    "print(prec_GaussNB)\n",
    "print('Árbol de decisión:')\n",
    "print(prec_ArbDes)\n",
    "print('Bosque Aleatorio:')\n",
    "print(prec_BosAle)\n",
    "print('evc:')\n",
    "print(prec_evc)\n",
    "\n"
   ]
  },
  {
   "cell_type": "code",
   "execution_count": 31,
   "metadata": {},
   "outputs": [
    {
     "name": "stdout",
     "output_type": "stream",
     "text": [
      "evc:\n",
      "0.9030898876404494\n",
      "Matriz de Confusión:\n",
      "[[96  9]\n",
      " [18 56]]\n"
     ]
    }
   ],
   "source": [
    "#importasion de funciones de Sklearn\n",
    "from sklearn.model_selection import train_test_split\n",
    "from sklearn.linear_model import LogisticRegression\n",
    "from sklearn.svm import SVC\n",
    "from sklearn.neighbors import KNeighborsClassifier\n",
    "from sklearn.naive_bayes import GaussianNB\n",
    "from sklearn.tree import DecisionTreeClassifier\n",
    "from sklearn.ensemble import RandomForestClassifier, VotingClassifier \n",
    "from sklearn.metrics import confusion_matrix\n",
    "\n",
    "\n",
    "evc = VotingClassifier(\n",
    "    estimators=[('lr', LogisticRegression()),\n",
    "                ('svc', SVC()),\n",
    "                ('KNC',KNeighborsClassifier()),\n",
    "                ('gnb', GaussianNB()),\n",
    "                ('dtc', DecisionTreeClassifier()),\n",
    "                ('rf', RandomForestClassifier())],\n",
    "    voting='hard')\n",
    "evc.fit(X_train, y_train)\n",
    "Y_pred7 = evc.predict(X_test)\n",
    "    \n",
    "prec_evc = BosAle.score(X_train, y_train)\n",
    "print('evc:')\n",
    "print(prec_evc)\n",
    "\n",
    "# Matriz de Confusión\n",
    "matriz7 = confusion_matrix(y_test, Y_pred7)\n",
    "print('Matriz de Confusión:')\n",
    "print(matriz7)\n",
    "\n"
   ]
  },
  {
   "cell_type": "markdown",
   "metadata": {},
   "source": [
    "## 6. PREDICCIONES UTILIZANDO LOS MODELOS"
   ]
  },
  {
   "cell_type": "code",
   "execution_count": 34,
   "metadata": {},
   "outputs": [],
   "source": [
    "ids = df_test['ID']"
   ]
  },
  {
   "cell_type": "code",
   "execution_count": null,
   "metadata": {},
   "outputs": [],
   "source": [
    "def submission(test, model):\n",
    "    y_pred=model.predict(test)\n",
    "    data={'PassengerId': gender_submission['PassengerId'],'Survived':y_pred}\n",
    "    result=pd.DataFrame(data)\n",
    "    #date=pd.Timestamp.now().strftime(format='%d_%m_%Y_%H-%M_')\n",
    "    result.to_csv(f'/kaggle/working/pipeline_result.csv', index=False)\n",
    "    \n",
    "    "
   ]
  },
  {
   "cell_type": "code",
   "execution_count": 41,
   "metadata": {},
   "outputs": [
    {
     "name": "stdout",
     "output_type": "stream",
     "text": [
      "Predicción Árbol de desición:\n",
      "    ID  Sobreviviente\n",
      "0  892              0\n",
      "1  893              1\n",
      "2  894              0\n",
      "3  895              0\n",
      "4  896              1\n"
     ]
    }
   ],
   "source": [
    "##Arbol de desicion\n",
    "prediccion_ArbDes = ArbDes.predict(df_test.drop('ID', axis=1))\n",
    "out_ArbDes = pd.DataFrame({ 'ID' : ids, 'Sobreviviente': prediccion_ArbDes })\n",
    "print('Predicción Árbol de desición:')\n",
    "print(out_svc.head())\n",
    "\n",
    "#Guardado resultados\n",
    "result=pd.DataFrame(out_svc)\n",
    "result.to_csv('sobrevivientes.csv', index=False)"
   ]
  },
  {
   "cell_type": "code",
   "execution_count": 35,
   "metadata": {},
   "outputs": [
    {
     "name": "stdout",
     "output_type": "stream",
     "text": [
      "Predicción Regresión Logística:\n",
      "    ID  Sobreviviente\n",
      "0  892              0\n",
      "1  893              0\n",
      "2  894              0\n",
      "3  895              0\n",
      "4  896              0\n"
     ]
    }
   ],
   "source": [
    "##Regresión logística\n",
    "prediccion_logreg = logreg.predict(df_test.drop('ID', axis=1))\n",
    "out_logreg = pd.DataFrame({ 'ID' : ids, 'Sobreviviente': prediccion_logreg })\n",
    "print('Predicción Regresión Logística:')\n",
    "print(out_logreg.head())"
   ]
  },
  {
   "cell_type": "code",
   "execution_count": 36,
   "metadata": {},
   "outputs": [
    {
     "name": "stdout",
     "output_type": "stream",
     "text": [
      "Predicción Soporte de Vectores:\n",
      "    ID  Sobreviviente\n",
      "0  892              0\n",
      "1  893              1\n",
      "2  894              0\n",
      "3  895              0\n",
      "4  896              1\n"
     ]
    }
   ],
   "source": [
    "##Support Vector Machines\n",
    "prediccion_svc = svc.predict(df_test.drop('ID', axis=1))\n",
    "out_svc = pd.DataFrame({ 'ID' : ids, 'Sobreviviente': prediccion_svc })\n",
    "print('Predicción Soporte de Vectores:')\n",
    "print(out_svc.head())\n",
    "\n"
   ]
  },
  {
   "cell_type": "code",
   "execution_count": 37,
   "metadata": {},
   "outputs": [
    {
     "name": "stdout",
     "output_type": "stream",
     "text": [
      "Predicción Vecinos más Cercanos:\n",
      "    ID  Sobreviviente\n",
      "0  892              0\n",
      "1  893              1\n",
      "2  894              0\n",
      "3  895              0\n",
      "4  896              1\n"
     ]
    }
   ],
   "source": [
    "##K neighbors\n",
    "prediccion_knn = knn.predict(df_test.drop('ID', axis=1))\n",
    "out_knn = pd.DataFrame({ 'ID' : ids, 'Sobreviviente': prediccion_knn })\n",
    "print('Predicción Vecinos más Cercanos:')\n",
    "print(out_knn.head())"
   ]
  },
  {
   "cell_type": "code",
   "execution_count": null,
   "metadata": {},
   "outputs": [],
   "source": []
  }
 ],
 "metadata": {
  "kernelspec": {
   "display_name": "Python 3",
   "language": "python",
   "name": "python3"
  },
  "language_info": {
   "codemirror_mode": {
    "name": "ipython",
    "version": 3
   },
   "file_extension": ".py",
   "mimetype": "text/x-python",
   "name": "python",
   "nbconvert_exporter": "python",
   "pygments_lexer": "ipython3",
   "version": "3.8.5"
  }
 },
 "nbformat": 4,
 "nbformat_minor": 4
}
